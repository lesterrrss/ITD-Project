{
 "cells": [
  {
   "cell_type": "code",
   "execution_count": 1,
   "id": "dfb3d260-4a18-46c2-a16a-6a3311bd9170",
   "metadata": {},
   "outputs": [],
   "source": [
    "import numpy as np\n",
    "import pandas as pd\n",
    "import matplotlib.pyplot as plt\n",
    "import seaborn as sns\n",
    "import warnings\n",
    "warnings.filterwarnings('ignore')"
   ]
  },
  {
   "cell_type": "code",
   "execution_count": 2,
   "id": "b21cd96a-421d-490a-a10c-dfccb7e30ae8",
   "metadata": {},
   "outputs": [],
   "source": [
    "acci = pd.read_csv('datasets\\\\accident_data.csv')"
   ]
  },
  {
   "cell_type": "code",
   "execution_count": 3,
   "id": "90c8a13c-7885-406d-9f3b-eb0e96d54b90",
   "metadata": {},
   "outputs": [
    {
     "data": {
      "text/html": [
       "<div>\n",
       "<style scoped>\n",
       "    .dataframe tbody tr th:only-of-type {\n",
       "        vertical-align: middle;\n",
       "    }\n",
       "\n",
       "    .dataframe tbody tr th {\n",
       "        vertical-align: top;\n",
       "    }\n",
       "\n",
       "    .dataframe thead th {\n",
       "        text-align: right;\n",
       "    }\n",
       "</style>\n",
       "<table border=\"1\" class=\"dataframe\">\n",
       "  <thead>\n",
       "    <tr style=\"text-align: right;\">\n",
       "      <th></th>\n",
       "      <th>Index</th>\n",
       "      <th>Accident_Severity</th>\n",
       "      <th>Accident Date</th>\n",
       "      <th>Latitude</th>\n",
       "      <th>Light_Conditions</th>\n",
       "      <th>District Area</th>\n",
       "      <th>Longitude</th>\n",
       "      <th>Number_of_Casualties</th>\n",
       "      <th>Number_of_Vehicles</th>\n",
       "      <th>Road_Surface_Conditions</th>\n",
       "      <th>Road_Type</th>\n",
       "      <th>Urban_or_Rural_Area</th>\n",
       "      <th>Weather_Conditions</th>\n",
       "      <th>Vehicle_Type</th>\n",
       "    </tr>\n",
       "  </thead>\n",
       "  <tbody>\n",
       "    <tr>\n",
       "      <th>0</th>\n",
       "      <td>200701BS64157</td>\n",
       "      <td>Serious</td>\n",
       "      <td>5/6/2019</td>\n",
       "      <td>51.506187</td>\n",
       "      <td>Darkness - lights lit</td>\n",
       "      <td>Kensington and Chelsea</td>\n",
       "      <td>-0.209082</td>\n",
       "      <td>1</td>\n",
       "      <td>2</td>\n",
       "      <td>Dry</td>\n",
       "      <td>Single carriageway</td>\n",
       "      <td>Urban</td>\n",
       "      <td>Fine no high winds</td>\n",
       "      <td>Car</td>\n",
       "    </tr>\n",
       "    <tr>\n",
       "      <th>1</th>\n",
       "      <td>200701BS65737</td>\n",
       "      <td>Serious</td>\n",
       "      <td>2/7/2019</td>\n",
       "      <td>51.495029</td>\n",
       "      <td>Daylight</td>\n",
       "      <td>Kensington and Chelsea</td>\n",
       "      <td>-0.173647</td>\n",
       "      <td>1</td>\n",
       "      <td>2</td>\n",
       "      <td>Wet or damp</td>\n",
       "      <td>Single carriageway</td>\n",
       "      <td>Urban</td>\n",
       "      <td>Raining no high winds</td>\n",
       "      <td>Car</td>\n",
       "    </tr>\n",
       "    <tr>\n",
       "      <th>2</th>\n",
       "      <td>200701BS66127</td>\n",
       "      <td>Serious</td>\n",
       "      <td>26-08-2019</td>\n",
       "      <td>51.517715</td>\n",
       "      <td>Darkness - lighting unknown</td>\n",
       "      <td>Kensington and Chelsea</td>\n",
       "      <td>-0.210215</td>\n",
       "      <td>1</td>\n",
       "      <td>3</td>\n",
       "      <td>Dry</td>\n",
       "      <td>NaN</td>\n",
       "      <td>Urban</td>\n",
       "      <td>NaN</td>\n",
       "      <td>Taxi/Private hire car</td>\n",
       "    </tr>\n",
       "    <tr>\n",
       "      <th>3</th>\n",
       "      <td>200701BS66128</td>\n",
       "      <td>Serious</td>\n",
       "      <td>16-08-2019</td>\n",
       "      <td>51.495478</td>\n",
       "      <td>Daylight</td>\n",
       "      <td>Kensington and Chelsea</td>\n",
       "      <td>-0.202731</td>\n",
       "      <td>1</td>\n",
       "      <td>4</td>\n",
       "      <td>Dry</td>\n",
       "      <td>Single carriageway</td>\n",
       "      <td>Urban</td>\n",
       "      <td>Fine no high winds</td>\n",
       "      <td>Bus or coach (17 or more pass seats)</td>\n",
       "    </tr>\n",
       "    <tr>\n",
       "      <th>4</th>\n",
       "      <td>200701BS66837</td>\n",
       "      <td>Slight</td>\n",
       "      <td>3/9/2019</td>\n",
       "      <td>51.488576</td>\n",
       "      <td>Darkness - lights lit</td>\n",
       "      <td>Kensington and Chelsea</td>\n",
       "      <td>-0.192487</td>\n",
       "      <td>1</td>\n",
       "      <td>2</td>\n",
       "      <td>Dry</td>\n",
       "      <td>NaN</td>\n",
       "      <td>Urban</td>\n",
       "      <td>NaN</td>\n",
       "      <td>Other vehicle</td>\n",
       "    </tr>\n",
       "    <tr>\n",
       "      <th>...</th>\n",
       "      <td>...</td>\n",
       "      <td>...</td>\n",
       "      <td>...</td>\n",
       "      <td>...</td>\n",
       "      <td>...</td>\n",
       "      <td>...</td>\n",
       "      <td>...</td>\n",
       "      <td>...</td>\n",
       "      <td>...</td>\n",
       "      <td>...</td>\n",
       "      <td>...</td>\n",
       "      <td>...</td>\n",
       "      <td>...</td>\n",
       "      <td>...</td>\n",
       "    </tr>\n",
       "    <tr>\n",
       "      <th>660674</th>\n",
       "      <td>201091NM01760</td>\n",
       "      <td>Slight</td>\n",
       "      <td>18-02-2022</td>\n",
       "      <td>57.374005</td>\n",
       "      <td>Daylight</td>\n",
       "      <td>Highland</td>\n",
       "      <td>-3.467828</td>\n",
       "      <td>2</td>\n",
       "      <td>1</td>\n",
       "      <td>Dry</td>\n",
       "      <td>Single carriageway</td>\n",
       "      <td>Rural</td>\n",
       "      <td>Fine no high winds</td>\n",
       "      <td>Car</td>\n",
       "    </tr>\n",
       "    <tr>\n",
       "      <th>660675</th>\n",
       "      <td>201091NM01881</td>\n",
       "      <td>Slight</td>\n",
       "      <td>21-02-2022</td>\n",
       "      <td>57.232273</td>\n",
       "      <td>Darkness - no lighting</td>\n",
       "      <td>Highland</td>\n",
       "      <td>-3.809281</td>\n",
       "      <td>1</td>\n",
       "      <td>1</td>\n",
       "      <td>Frost or ice</td>\n",
       "      <td>Single carriageway</td>\n",
       "      <td>Rural</td>\n",
       "      <td>Fine no high winds</td>\n",
       "      <td>Car</td>\n",
       "    </tr>\n",
       "    <tr>\n",
       "      <th>660676</th>\n",
       "      <td>201091NM01935</td>\n",
       "      <td>Slight</td>\n",
       "      <td>23-02-2022</td>\n",
       "      <td>57.585044</td>\n",
       "      <td>Daylight</td>\n",
       "      <td>Highland</td>\n",
       "      <td>-3.862727</td>\n",
       "      <td>1</td>\n",
       "      <td>3</td>\n",
       "      <td>Frost or ice</td>\n",
       "      <td>Single carriageway</td>\n",
       "      <td>Rural</td>\n",
       "      <td>Fine no high winds</td>\n",
       "      <td>Car</td>\n",
       "    </tr>\n",
       "    <tr>\n",
       "      <th>660677</th>\n",
       "      <td>201091NM01964</td>\n",
       "      <td>Serious</td>\n",
       "      <td>23-02-2022</td>\n",
       "      <td>57.214898</td>\n",
       "      <td>Darkness - no lighting</td>\n",
       "      <td>Highland</td>\n",
       "      <td>-3.823997</td>\n",
       "      <td>1</td>\n",
       "      <td>2</td>\n",
       "      <td>Wet or damp</td>\n",
       "      <td>Single carriageway</td>\n",
       "      <td>Rural</td>\n",
       "      <td>Fine no high winds</td>\n",
       "      <td>Motorcycle over 500cc</td>\n",
       "    </tr>\n",
       "    <tr>\n",
       "      <th>660678</th>\n",
       "      <td>201091NM02142</td>\n",
       "      <td>Serious</td>\n",
       "      <td>28-02-2022</td>\n",
       "      <td>57.575210</td>\n",
       "      <td>Daylight</td>\n",
       "      <td>Highland</td>\n",
       "      <td>-3.895673</td>\n",
       "      <td>1</td>\n",
       "      <td>1</td>\n",
       "      <td>Wet or damp</td>\n",
       "      <td>Dual carriageway</td>\n",
       "      <td>Rural</td>\n",
       "      <td>Snowing no high winds</td>\n",
       "      <td>Car</td>\n",
       "    </tr>\n",
       "  </tbody>\n",
       "</table>\n",
       "<p>660679 rows × 14 columns</p>\n",
       "</div>"
      ],
      "text/plain": [
       "                Index Accident_Severity Accident Date   Latitude  \\\n",
       "0       200701BS64157           Serious      5/6/2019  51.506187   \n",
       "1       200701BS65737           Serious      2/7/2019  51.495029   \n",
       "2       200701BS66127           Serious    26-08-2019  51.517715   \n",
       "3       200701BS66128           Serious    16-08-2019  51.495478   \n",
       "4       200701BS66837            Slight      3/9/2019  51.488576   \n",
       "...               ...               ...           ...        ...   \n",
       "660674  201091NM01760            Slight    18-02-2022  57.374005   \n",
       "660675  201091NM01881            Slight    21-02-2022  57.232273   \n",
       "660676  201091NM01935            Slight    23-02-2022  57.585044   \n",
       "660677  201091NM01964           Serious    23-02-2022  57.214898   \n",
       "660678  201091NM02142           Serious    28-02-2022  57.575210   \n",
       "\n",
       "                   Light_Conditions           District Area  Longitude  \\\n",
       "0             Darkness - lights lit  Kensington and Chelsea  -0.209082   \n",
       "1                          Daylight  Kensington and Chelsea  -0.173647   \n",
       "2       Darkness - lighting unknown  Kensington and Chelsea  -0.210215   \n",
       "3                          Daylight  Kensington and Chelsea  -0.202731   \n",
       "4             Darkness - lights lit  Kensington and Chelsea  -0.192487   \n",
       "...                             ...                     ...        ...   \n",
       "660674                     Daylight                Highland  -3.467828   \n",
       "660675       Darkness - no lighting                Highland  -3.809281   \n",
       "660676                     Daylight                Highland  -3.862727   \n",
       "660677       Darkness - no lighting                Highland  -3.823997   \n",
       "660678                     Daylight                Highland  -3.895673   \n",
       "\n",
       "        Number_of_Casualties  Number_of_Vehicles Road_Surface_Conditions  \\\n",
       "0                          1                   2                     Dry   \n",
       "1                          1                   2             Wet or damp   \n",
       "2                          1                   3                     Dry   \n",
       "3                          1                   4                     Dry   \n",
       "4                          1                   2                     Dry   \n",
       "...                      ...                 ...                     ...   \n",
       "660674                     2                   1                     Dry   \n",
       "660675                     1                   1            Frost or ice   \n",
       "660676                     1                   3            Frost or ice   \n",
       "660677                     1                   2             Wet or damp   \n",
       "660678                     1                   1             Wet or damp   \n",
       "\n",
       "                 Road_Type Urban_or_Rural_Area     Weather_Conditions  \\\n",
       "0       Single carriageway               Urban     Fine no high winds   \n",
       "1       Single carriageway               Urban  Raining no high winds   \n",
       "2                      NaN               Urban                    NaN   \n",
       "3       Single carriageway               Urban     Fine no high winds   \n",
       "4                      NaN               Urban                    NaN   \n",
       "...                    ...                 ...                    ...   \n",
       "660674  Single carriageway               Rural     Fine no high winds   \n",
       "660675  Single carriageway               Rural     Fine no high winds   \n",
       "660676  Single carriageway               Rural     Fine no high winds   \n",
       "660677  Single carriageway               Rural     Fine no high winds   \n",
       "660678    Dual carriageway               Rural  Snowing no high winds   \n",
       "\n",
       "                                Vehicle_Type  \n",
       "0                                        Car  \n",
       "1                                        Car  \n",
       "2                      Taxi/Private hire car  \n",
       "3       Bus or coach (17 or more pass seats)  \n",
       "4                              Other vehicle  \n",
       "...                                      ...  \n",
       "660674                                   Car  \n",
       "660675                                   Car  \n",
       "660676                                   Car  \n",
       "660677                 Motorcycle over 500cc  \n",
       "660678                                   Car  \n",
       "\n",
       "[660679 rows x 14 columns]"
      ]
     },
     "execution_count": 3,
     "metadata": {},
     "output_type": "execute_result"
    }
   ],
   "source": [
    "acci"
   ]
  },
  {
   "cell_type": "code",
   "execution_count": 4,
   "id": "685b48fb-3bfb-4a59-8e00-a0e9fc5b9916",
   "metadata": {},
   "outputs": [
    {
     "name": "stdout",
     "output_type": "stream",
     "text": [
      "<class 'pandas.core.frame.DataFrame'>\n",
      "RangeIndex: 660679 entries, 0 to 660678\n",
      "Data columns (total 14 columns):\n",
      " #   Column                   Non-Null Count   Dtype  \n",
      "---  ------                   --------------   -----  \n",
      " 0   Index                    660679 non-null  object \n",
      " 1   Accident_Severity        660679 non-null  object \n",
      " 2   Accident Date            660679 non-null  object \n",
      " 3   Latitude                 660654 non-null  float64\n",
      " 4   Light_Conditions         660679 non-null  object \n",
      " 5   District Area            660679 non-null  object \n",
      " 6   Longitude                660653 non-null  float64\n",
      " 7   Number_of_Casualties     660679 non-null  int64  \n",
      " 8   Number_of_Vehicles       660679 non-null  int64  \n",
      " 9   Road_Surface_Conditions  659953 non-null  object \n",
      " 10  Road_Type                656159 non-null  object \n",
      " 11  Urban_or_Rural_Area      660664 non-null  object \n",
      " 12  Weather_Conditions       646551 non-null  object \n",
      " 13  Vehicle_Type             660679 non-null  object \n",
      "dtypes: float64(2), int64(2), object(10)\n",
      "memory usage: 70.6+ MB\n"
     ]
    }
   ],
   "source": [
    "acci.info()"
   ]
  },
  {
   "cell_type": "code",
   "execution_count": 5,
   "id": "cfe56026-8ebb-4771-be70-2cbf4e6596ef",
   "metadata": {},
   "outputs": [
    {
     "data": {
      "text/html": [
       "<div>\n",
       "<style scoped>\n",
       "    .dataframe tbody tr th:only-of-type {\n",
       "        vertical-align: middle;\n",
       "    }\n",
       "\n",
       "    .dataframe tbody tr th {\n",
       "        vertical-align: top;\n",
       "    }\n",
       "\n",
       "    .dataframe thead th {\n",
       "        text-align: right;\n",
       "    }\n",
       "</style>\n",
       "<table border=\"1\" class=\"dataframe\">\n",
       "  <thead>\n",
       "    <tr style=\"text-align: right;\">\n",
       "      <th></th>\n",
       "      <th>Latitude</th>\n",
       "      <th>Longitude</th>\n",
       "      <th>Number_of_Casualties</th>\n",
       "      <th>Number_of_Vehicles</th>\n",
       "    </tr>\n",
       "  </thead>\n",
       "  <tbody>\n",
       "    <tr>\n",
       "      <th>count</th>\n",
       "      <td>660654.000000</td>\n",
       "      <td>660653.000000</td>\n",
       "      <td>660679.000000</td>\n",
       "      <td>660679.000000</td>\n",
       "    </tr>\n",
       "    <tr>\n",
       "      <th>mean</th>\n",
       "      <td>52.553866</td>\n",
       "      <td>-1.431210</td>\n",
       "      <td>1.357040</td>\n",
       "      <td>1.831255</td>\n",
       "    </tr>\n",
       "    <tr>\n",
       "      <th>std</th>\n",
       "      <td>1.406922</td>\n",
       "      <td>1.383330</td>\n",
       "      <td>0.824847</td>\n",
       "      <td>0.715269</td>\n",
       "    </tr>\n",
       "    <tr>\n",
       "      <th>min</th>\n",
       "      <td>49.914430</td>\n",
       "      <td>-7.516225</td>\n",
       "      <td>1.000000</td>\n",
       "      <td>1.000000</td>\n",
       "    </tr>\n",
       "    <tr>\n",
       "      <th>25%</th>\n",
       "      <td>51.490690</td>\n",
       "      <td>-2.332291</td>\n",
       "      <td>1.000000</td>\n",
       "      <td>1.000000</td>\n",
       "    </tr>\n",
       "    <tr>\n",
       "      <th>50%</th>\n",
       "      <td>52.315641</td>\n",
       "      <td>-1.411667</td>\n",
       "      <td>1.000000</td>\n",
       "      <td>2.000000</td>\n",
       "    </tr>\n",
       "    <tr>\n",
       "      <th>75%</th>\n",
       "      <td>53.453452</td>\n",
       "      <td>-0.232869</td>\n",
       "      <td>1.000000</td>\n",
       "      <td>2.000000</td>\n",
       "    </tr>\n",
       "    <tr>\n",
       "      <th>max</th>\n",
       "      <td>60.757544</td>\n",
       "      <td>1.762010</td>\n",
       "      <td>68.000000</td>\n",
       "      <td>32.000000</td>\n",
       "    </tr>\n",
       "  </tbody>\n",
       "</table>\n",
       "</div>"
      ],
      "text/plain": [
       "            Latitude      Longitude  Number_of_Casualties  Number_of_Vehicles\n",
       "count  660654.000000  660653.000000         660679.000000       660679.000000\n",
       "mean       52.553866      -1.431210              1.357040            1.831255\n",
       "std         1.406922       1.383330              0.824847            0.715269\n",
       "min        49.914430      -7.516225              1.000000            1.000000\n",
       "25%        51.490690      -2.332291              1.000000            1.000000\n",
       "50%        52.315641      -1.411667              1.000000            2.000000\n",
       "75%        53.453452      -0.232869              1.000000            2.000000\n",
       "max        60.757544       1.762010             68.000000           32.000000"
      ]
     },
     "execution_count": 5,
     "metadata": {},
     "output_type": "execute_result"
    }
   ],
   "source": [
    "acci.describe()"
   ]
  },
  {
   "cell_type": "code",
   "execution_count": 6,
   "id": "9821ff69-6c4b-4158-89e5-066b09f0645f",
   "metadata": {},
   "outputs": [
    {
     "data": {
      "text/plain": [
       "Index                          0\n",
       "Accident_Severity              0\n",
       "Accident Date                  0\n",
       "Latitude                      25\n",
       "Light_Conditions               0\n",
       "District Area                  0\n",
       "Longitude                     26\n",
       "Number_of_Casualties           0\n",
       "Number_of_Vehicles             0\n",
       "Road_Surface_Conditions      726\n",
       "Road_Type                   4520\n",
       "Urban_or_Rural_Area           15\n",
       "Weather_Conditions         14128\n",
       "Vehicle_Type                   0\n",
       "dtype: int64"
      ]
     },
     "execution_count": 6,
     "metadata": {},
     "output_type": "execute_result"
    }
   ],
   "source": [
    "acci.isnull().sum()"
   ]
  },
  {
   "cell_type": "code",
   "execution_count": 7,
   "id": "2bc0025c-d059-4515-b19e-3236e04ab57b",
   "metadata": {},
   "outputs": [],
   "source": [
    "acci[\"Latitude\"] = acci[\"Latitude\"].fillna(acci[\"Latitude\"].mean())\n",
    "acci[\"Longitude\"] = acci[\"Longitude\"].fillna(acci[\"Longitude\"].mean())\n",
    "acci[\"Road_Surface_Conditions\"] = acci[\"Road_Surface_Conditions\"].fillna(acci[\"Road_Surface_Conditions\"].mode()[0])\n",
    "acci[\"Road_Type\"] = acci[\"Road_Type\"].fillna(acci[\"Road_Type\"].mode()[0])\n",
    "acci[\"Urban_or_Rural_Area\"] = acci[\"Urban_or_Rural_Area\"].fillna(acci[\"Urban_or_Rural_Area\"].mode()[0])"
   ]
  },
  {
   "cell_type": "code",
   "execution_count": 8,
   "id": "b5ee96b7-c3a6-432c-8d58-355b9701e102",
   "metadata": {},
   "outputs": [
    {
     "data": {
      "text/plain": [
       "Index                       object\n",
       "Accident_Severity           object\n",
       "Accident Date               object\n",
       "Latitude                   float64\n",
       "Light_Conditions            object\n",
       "District Area               object\n",
       "Longitude                  float64\n",
       "Number_of_Casualties         int64\n",
       "Number_of_Vehicles           int64\n",
       "Road_Surface_Conditions     object\n",
       "Road_Type                   object\n",
       "Urban_or_Rural_Area         object\n",
       "Weather_Conditions          object\n",
       "Vehicle_Type                object\n",
       "dtype: object"
      ]
     },
     "execution_count": 8,
     "metadata": {},
     "output_type": "execute_result"
    }
   ],
   "source": [
    "acci.dtypes"
   ]
  },
  {
   "cell_type": "code",
   "execution_count": 9,
   "id": "ae8c521b-44c3-440c-a1d5-aacf3c3b71d4",
   "metadata": {},
   "outputs": [],
   "source": [
    "acci[\"Index\"] = acci[\"Index\"].astype('category')"
   ]
  },
  {
   "cell_type": "code",
   "execution_count": 10,
   "id": "5ab3f7d1-eeda-4119-905c-d7eaca233aaf",
   "metadata": {},
   "outputs": [],
   "source": [
    "acci[\"Accident_Severity\"] = acci[\"Accident_Severity\"].astype('category')"
   ]
  },
  {
   "cell_type": "code",
   "execution_count": 11,
   "id": "0f498732-4cf3-4b16-bf3f-d3248540b150",
   "metadata": {},
   "outputs": [],
   "source": [
    "acci['Accident Date'] = pd.to_datetime(acci['Accident Date'] ,dayfirst = True, errors = 'coerce')"
   ]
  },
  {
   "cell_type": "code",
   "execution_count": 12,
   "id": "d46a1778-520a-46a1-9cae-7ea9e71cd7b8",
   "metadata": {},
   "outputs": [],
   "source": [
    "acci[\"Light_Conditions\"] = acci[\"Light_Conditions\"].astype('category')"
   ]
  },
  {
   "cell_type": "code",
   "execution_count": 13,
   "id": "ace94618-372f-4984-bcee-b5c785a86eaf",
   "metadata": {},
   "outputs": [],
   "source": [
    "acci[\"District Area\"] = acci[\"District Area\"].astype('category')"
   ]
  },
  {
   "cell_type": "code",
   "execution_count": 14,
   "id": "92a720c1-005f-49ae-a196-32c1efe7867c",
   "metadata": {},
   "outputs": [],
   "source": [
    "acci[\"Road_Surface_Conditions\"] = acci[\"Road_Surface_Conditions\"].astype('category')"
   ]
  },
  {
   "cell_type": "code",
   "execution_count": 15,
   "id": "b2c26d5f-a54a-4316-8b42-a976c26d1da2",
   "metadata": {},
   "outputs": [],
   "source": [
    "acci[\"Road_Type\"] = acci[\"Road_Type\"].astype('category')"
   ]
  },
  {
   "cell_type": "code",
   "execution_count": 16,
   "id": "eb317cf6-b597-4203-ab7a-e2a0e7cbc1a4",
   "metadata": {},
   "outputs": [],
   "source": [
    "acci[\"Urban_or_Rural_Area\"] = acci[\"Urban_or_Rural_Area\"].astype('category')"
   ]
  },
  {
   "cell_type": "code",
   "execution_count": 17,
   "id": "761baa15-79ef-40fb-820e-e6a8603e83c7",
   "metadata": {},
   "outputs": [],
   "source": [
    "acci[\"Weather_Conditions\"] = acci[\"Weather_Conditions\"].astype('category')"
   ]
  },
  {
   "cell_type": "code",
   "execution_count": 18,
   "id": "a87ecbd6-07c4-4663-a921-94f6bce0657b",
   "metadata": {},
   "outputs": [],
   "source": [
    "acci[\"Vehicle_Type\"] = acci[\"Vehicle_Type\"].astype('category')"
   ]
  },
  {
   "cell_type": "code",
   "execution_count": 19,
   "id": "bc01b35b-9b0a-4511-8b1d-d3b86844f280",
   "metadata": {},
   "outputs": [],
   "source": [
    "acci['Year'] = acci['Accident Date'].dt.year\n",
    "acci['Month'] = acci['Accident Date'].dt.month\n",
    "acci['Day'] = acci['Accident Date'].dt.day\n",
    "acci['DayOfWeek'] = acci['Accident Date'].dt.dayofweek\n"
   ]
  },
  {
   "cell_type": "markdown",
   "id": "89202600-ef68-47bc-b3a1-df93f40e19ef",
   "metadata": {},
   "source": [
    "<h1 style=\"color: red;\"> 20 PROBLEMS </h1>\n",
    "<h2 style=\"color: BLUE;\"> UNIVARIATE - Blue Insight</h2>\n",
    "<h2 style=\"color: GREEN;\"> BIVARIATE - Green Insight </h2>\n",
    "<h2 style=\"color: VIOLET;\"> MULTIVARIATE - Violet Insight </h2>\n"
   ]
  },
  {
   "cell_type": "markdown",
   "id": "11dc75e8-4208-4246-8660-7ef7ee41f720",
   "metadata": {},
   "source": [
    "<h1>Problem 1 - What is the average number of casualties of accidents? </h1>"
   ]
  },
  {
   "cell_type": "code",
   "execution_count": 20,
   "id": "ba1cbc67-713d-4df1-aa0f-81694a053823",
   "metadata": {},
   "outputs": [
    {
     "data": {
      "text/plain": [
       "np.float64(1.0)"
      ]
     },
     "execution_count": 20,
     "metadata": {},
     "output_type": "execute_result"
    }
   ],
   "source": [
    "np.round(acci[\"Number_of_Casualties\"].mean())"
   ]
  },
  {
   "cell_type": "markdown",
   "id": "acc1ad2d-c895-4568-a174-1e96c4f9019f",
   "metadata": {},
   "source": [
    "<h2 style=\"color: blue\"> Insight no 1 - The average number of casualties is 1.0</h2>"
   ]
  },
  {
   "cell_type": "markdown",
   "id": "09ca0cef-6d24-4c4b-a1eb-103438d37d49",
   "metadata": {},
   "source": [
    "<h1>Problem 2 - How many accidents were recorded in the dataset?</h1>"
   ]
  },
  {
   "cell_type": "code",
   "execution_count": 21,
   "id": "08ff8b3e-0617-41aa-9502-82f5b3ac154a",
   "metadata": {},
   "outputs": [
    {
     "data": {
      "text/plain": [
       "np.int64(660679)"
      ]
     },
     "execution_count": 21,
     "metadata": {},
     "output_type": "execute_result"
    }
   ],
   "source": [
    "acci[\"Index\"].count()"
   ]
  },
  {
   "cell_type": "markdown",
   "id": "87f55109-c14e-41a7-84d1-628038bf4725",
   "metadata": {},
   "source": [
    "<h2 style=\"color: blue\"> Insight no 2 - The number of accidents recorded in datasets is 660,679</h2>"
   ]
  },
  {
   "cell_type": "markdown",
   "id": "d77d5bd8-ef71-4961-8262-1dc5b210aa5b",
   "metadata": {},
   "source": [
    "<h1>Problem 3 - What is the most car to drive under the wet or damp weather condition?</h1>"
   ]
  },
  {
   "cell_type": "code",
   "execution_count": 22,
   "id": "d535210b-a78e-4add-b850-46124b1458bd",
   "metadata": {},
   "outputs": [
    {
     "data": {
      "text/html": [
       "<div>\n",
       "<style scoped>\n",
       "    .dataframe tbody tr th:only-of-type {\n",
       "        vertical-align: middle;\n",
       "    }\n",
       "\n",
       "    .dataframe tbody tr th {\n",
       "        vertical-align: top;\n",
       "    }\n",
       "\n",
       "    .dataframe thead th {\n",
       "        text-align: right;\n",
       "    }\n",
       "</style>\n",
       "<table border=\"1\" class=\"dataframe\">\n",
       "  <thead>\n",
       "    <tr style=\"text-align: right;\">\n",
       "      <th>Road_Surface_Conditions</th>\n",
       "      <th>Dry</th>\n",
       "      <th>Flood over 3cm. deep</th>\n",
       "      <th>Frost or ice</th>\n",
       "      <th>Snow</th>\n",
       "      <th>Wet or damp</th>\n",
       "    </tr>\n",
       "    <tr>\n",
       "      <th>Vehicle_Type</th>\n",
       "      <th></th>\n",
       "      <th></th>\n",
       "      <th></th>\n",
       "      <th></th>\n",
       "      <th></th>\n",
       "    </tr>\n",
       "  </thead>\n",
       "  <tbody>\n",
       "    <tr>\n",
       "      <th>Agricultural vehicle</th>\n",
       "      <td>1304</td>\n",
       "      <td>8</td>\n",
       "      <td>59</td>\n",
       "      <td>24</td>\n",
       "      <td>552</td>\n",
       "    </tr>\n",
       "    <tr>\n",
       "      <th>Bus or coach (17 or more pass seats)</th>\n",
       "      <td>17623</td>\n",
       "      <td>40</td>\n",
       "      <td>646</td>\n",
       "      <td>214</td>\n",
       "      <td>7355</td>\n",
       "    </tr>\n",
       "    <tr>\n",
       "      <th>Car</th>\n",
       "      <td>337860</td>\n",
       "      <td>777</td>\n",
       "      <td>14108</td>\n",
       "      <td>4483</td>\n",
       "      <td>140764</td>\n",
       "    </tr>\n",
       "    <tr>\n",
       "      <th>Data missing or out of range</th>\n",
       "      <td>3</td>\n",
       "      <td>0</td>\n",
       "      <td>1</td>\n",
       "      <td>0</td>\n",
       "      <td>2</td>\n",
       "    </tr>\n",
       "    <tr>\n",
       "      <th>Goods 7.5 tonnes mgw and over</th>\n",
       "      <td>11708</td>\n",
       "      <td>32</td>\n",
       "      <td>432</td>\n",
       "      <td>147</td>\n",
       "      <td>4988</td>\n",
       "    </tr>\n",
       "    <tr>\n",
       "      <th>Goods over 3.5t. and under 7.5t</th>\n",
       "      <td>4138</td>\n",
       "      <td>6</td>\n",
       "      <td>162</td>\n",
       "      <td>51</td>\n",
       "      <td>1739</td>\n",
       "    </tr>\n",
       "    <tr>\n",
       "      <th>Minibus (8 - 16 passenger seats)</th>\n",
       "      <td>1356</td>\n",
       "      <td>1</td>\n",
       "      <td>40</td>\n",
       "      <td>16</td>\n",
       "      <td>563</td>\n",
       "    </tr>\n",
       "    <tr>\n",
       "      <th>Motorcycle 125cc and under</th>\n",
       "      <td>10515</td>\n",
       "      <td>14</td>\n",
       "      <td>420</td>\n",
       "      <td>128</td>\n",
       "      <td>4192</td>\n",
       "    </tr>\n",
       "    <tr>\n",
       "      <th>Motorcycle 50cc and under</th>\n",
       "      <td>5200</td>\n",
       "      <td>13</td>\n",
       "      <td>224</td>\n",
       "      <td>77</td>\n",
       "      <td>2089</td>\n",
       "    </tr>\n",
       "    <tr>\n",
       "      <th>Motorcycle over 125cc and up to 500cc</th>\n",
       "      <td>5233</td>\n",
       "      <td>9</td>\n",
       "      <td>204</td>\n",
       "      <td>71</td>\n",
       "      <td>2139</td>\n",
       "    </tr>\n",
       "    <tr>\n",
       "      <th>Motorcycle over 500cc</th>\n",
       "      <td>17465</td>\n",
       "      <td>44</td>\n",
       "      <td>689</td>\n",
       "      <td>226</td>\n",
       "      <td>7233</td>\n",
       "    </tr>\n",
       "    <tr>\n",
       "      <th>Other vehicle</th>\n",
       "      <td>3853</td>\n",
       "      <td>11</td>\n",
       "      <td>166</td>\n",
       "      <td>46</td>\n",
       "      <td>1561</td>\n",
       "    </tr>\n",
       "    <tr>\n",
       "      <th>Pedal cycle</th>\n",
       "      <td>138</td>\n",
       "      <td>0</td>\n",
       "      <td>10</td>\n",
       "      <td>2</td>\n",
       "      <td>47</td>\n",
       "    </tr>\n",
       "    <tr>\n",
       "      <th>Ridden horse</th>\n",
       "      <td>3</td>\n",
       "      <td>0</td>\n",
       "      <td>0</td>\n",
       "      <td>0</td>\n",
       "      <td>1</td>\n",
       "    </tr>\n",
       "    <tr>\n",
       "      <th>Taxi/Private hire car</th>\n",
       "      <td>9024</td>\n",
       "      <td>13</td>\n",
       "      <td>384</td>\n",
       "      <td>122</td>\n",
       "      <td>3751</td>\n",
       "    </tr>\n",
       "    <tr>\n",
       "      <th>Van / Goods 3.5 tonnes mgw or under</th>\n",
       "      <td>23124</td>\n",
       "      <td>49</td>\n",
       "      <td>972</td>\n",
       "      <td>283</td>\n",
       "      <td>9732</td>\n",
       "    </tr>\n",
       "  </tbody>\n",
       "</table>\n",
       "</div>"
      ],
      "text/plain": [
       "Road_Surface_Conditions                   Dry  Flood over 3cm. deep  \\\n",
       "Vehicle_Type                                                          \n",
       "Agricultural vehicle                     1304                     8   \n",
       "Bus or coach (17 or more pass seats)    17623                    40   \n",
       "Car                                    337860                   777   \n",
       "Data missing or out of range                3                     0   \n",
       "Goods 7.5 tonnes mgw and over           11708                    32   \n",
       "Goods over 3.5t. and under 7.5t          4138                     6   \n",
       "Minibus (8 - 16 passenger seats)         1356                     1   \n",
       "Motorcycle 125cc and under              10515                    14   \n",
       "Motorcycle 50cc and under                5200                    13   \n",
       "Motorcycle over 125cc and up to 500cc    5233                     9   \n",
       "Motorcycle over 500cc                   17465                    44   \n",
       "Other vehicle                            3853                    11   \n",
       "Pedal cycle                               138                     0   \n",
       "Ridden horse                                3                     0   \n",
       "Taxi/Private hire car                    9024                    13   \n",
       "Van / Goods 3.5 tonnes mgw or under     23124                    49   \n",
       "\n",
       "Road_Surface_Conditions                Frost or ice  Snow  Wet or damp  \n",
       "Vehicle_Type                                                            \n",
       "Agricultural vehicle                             59    24          552  \n",
       "Bus or coach (17 or more pass seats)            646   214         7355  \n",
       "Car                                           14108  4483       140764  \n",
       "Data missing or out of range                      1     0            2  \n",
       "Goods 7.5 tonnes mgw and over                   432   147         4988  \n",
       "Goods over 3.5t. and under 7.5t                 162    51         1739  \n",
       "Minibus (8 - 16 passenger seats)                 40    16          563  \n",
       "Motorcycle 125cc and under                      420   128         4192  \n",
       "Motorcycle 50cc and under                       224    77         2089  \n",
       "Motorcycle over 125cc and up to 500cc           204    71         2139  \n",
       "Motorcycle over 500cc                           689   226         7233  \n",
       "Other vehicle                                   166    46         1561  \n",
       "Pedal cycle                                      10     2           47  \n",
       "Ridden horse                                      0     0            1  \n",
       "Taxi/Private hire car                           384   122         3751  \n",
       "Van / Goods 3.5 tonnes mgw or under             972   283         9732  "
      ]
     },
     "execution_count": 22,
     "metadata": {},
     "output_type": "execute_result"
    }
   ],
   "source": [
    "car_wet_safe  = acci.groupby([\"Vehicle_Type\",\"Road_Surface_Conditions\"] ).size()\n",
    "\n",
    "car_wet_safe.unstack()"
   ]
  },
  {
   "cell_type": "markdown",
   "id": "20e9233b-b647-469c-9574-ef236326135e",
   "metadata": {},
   "source": [
    "<h2 style=\"color: green\"> Insight no 3 - The safest car to drive under the wet or damp weather condition is Ridden Horse with accident rate of 1%</h2>"
   ]
  },
  {
   "cell_type": "markdown",
   "id": "7dbac5b1-1771-4249-9188-9f5085998ffe",
   "metadata": {},
   "source": [
    "<h1>Problem 4 - How many unique road surface conditions are there? </h1>"
   ]
  },
  {
   "cell_type": "code",
   "execution_count": 23,
   "id": "9073f1ef-7c1c-466e-99d0-ee847241fa38",
   "metadata": {},
   "outputs": [
    {
     "data": {
      "text/plain": [
       "5"
      ]
     },
     "execution_count": 23,
     "metadata": {},
     "output_type": "execute_result"
    }
   ],
   "source": [
    "acci[\"Road_Surface_Conditions\"].nunique()"
   ]
  },
  {
   "cell_type": "markdown",
   "id": "3f953d6c-fc94-436b-be63-61c44fd46c26",
   "metadata": {},
   "source": [
    "<h2 style=\"color: blue\"> Insight no 4 - There are 5 unique road surface conditions in the dataset. Understanding these conditions helps in analyzing accident trends and identifying the most hazardous surfaces.</h2>"
   ]
  },
  {
   "cell_type": "markdown",
   "id": "3844487e-dc06-4416-a060-49ad895e39e5",
   "metadata": {},
   "source": [
    "<h1>Problem 5 - What is the most common weather condition in the dataset?</h1>"
   ]
  },
  {
   "cell_type": "code",
   "execution_count": 24,
   "id": "15423851-834e-49cf-a39a-2dc0247558c8",
   "metadata": {},
   "outputs": [
    {
     "data": {
      "text/plain": [
       "'Fine no high winds'"
      ]
     },
     "execution_count": 24,
     "metadata": {},
     "output_type": "execute_result"
    }
   ],
   "source": [
    "acci[\"Weather_Conditions\"].mode()[0]"
   ]
  },
  {
   "cell_type": "markdown",
   "id": "be4f1370-30b1-45f6-8a1f-b4f0002ea1eb",
   "metadata": {},
   "source": [
    "<h2 style=\"color: blue\"> Insight no 5 - \"Fine no high winds\" is the most common weather condition. This suggests that most accidents happen in clear weather, meaning human error and road conditions play a significant role.</h2>"
   ]
  },
  {
   "cell_type": "markdown",
   "id": "a56a5e71-eb02-43ae-9322-a2565e20263c",
   "metadata": {},
   "source": [
    "<h1>Problem 6 - What is the Proportion of accidents in Urban vs. Rural areas?</h1>"
   ]
  },
  {
   "cell_type": "code",
   "execution_count": 25,
   "id": "bfe597d8-fe44-452a-b941-2bba92db454f",
   "metadata": {},
   "outputs": [
    {
     "data": {
      "text/plain": [
       "Urban_or_Rural_Area\n",
       "Urban          64.0\n",
       "Rural          36.0\n",
       "Unallocated     0.0\n",
       "Name: proportion, dtype: float64"
      ]
     },
     "execution_count": 25,
     "metadata": {},
     "output_type": "execute_result"
    }
   ],
   "source": [
    "accident_proportion_area = acci[\"Urban_or_Rural_Area\"].value_counts(normalize=True).round(2) * 100\n",
    "accident_proportion_area"
   ]
  },
  {
   "cell_type": "markdown",
   "id": "07c170ff-993c-416b-9147-ac9ca318f7e7",
   "metadata": {},
   "source": [
    "<h2 style=\"color: blue\"> Insight no 6 - About 64% of accidents occur in urban areas, compared to 36% in rural areas. This is expected due to higher traffic volume, intersections, and pedestrian activity in urban settings.</h2>"
   ]
  },
  {
   "cell_type": "markdown",
   "id": "73a119a2-ab57-4341-a3be-8da667923e00",
   "metadata": {},
   "source": [
    "<h1>Problem 7 - What is the  Most common accident severity in Urban vs. Rural areas?</h1>"
   ]
  },
  {
   "cell_type": "code",
   "execution_count": 26,
   "id": "ecc8380b-a75e-4aa5-b189-ad1f6db4ee9f",
   "metadata": {},
   "outputs": [
    {
     "data": {
      "text/plain": [
       "Urban_or_Rural_Area\n",
       "Rural          Slight\n",
       "Unallocated    Slight\n",
       "Urban          Slight\n",
       "Name: Accident_Severity, dtype: category\n",
       "Categories (3, object): ['Fatal', 'Serious', 'Slight']"
      ]
     },
     "execution_count": 26,
     "metadata": {},
     "output_type": "execute_result"
    }
   ],
   "source": [
    "most_common_severity_area = acci.groupby(\"Urban_or_Rural_Area\")[\"Accident_Severity\"].agg(lambda x: x.mode()[0])\n",
    "most_common_severity_area"
   ]
  },
  {
   "cell_type": "markdown",
   "id": "6cb8b7a8-0526-477d-9f61-07c073f20aef",
   "metadata": {},
   "source": [
    "<h2 style=\"color: green\"> Insight no 7 - The most common severity in both urban and rural areas is \"Slight.\" Urban areas have more minor accidents, likely due to lower-speed collisions, while rural areas may have fewer but more severe accidents.</h2>"
   ]
  },
  {
   "cell_type": "markdown",
   "id": "2004eb05-08ff-491a-a568-fdd837811868",
   "metadata": {},
   "source": [
    "<h1>Problem 8 - What is the Most dangerous road surface condition based on total casualties?</h1>"
   ]
  },
  {
   "cell_type": "code",
   "execution_count": 27,
   "id": "f2e00f69-e41a-4ee1-a112-96abd41dcc83",
   "metadata": {},
   "outputs": [
    {
     "data": {
      "text/plain": [
       "Road_Surface_Conditions\n",
       "Dry                     598606\n",
       "Wet or damp             263457\n",
       "Frost or ice             24976\n",
       "Snow                      8008\n",
       "Flood over 3cm. deep      1521\n",
       "Name: Number_of_Casualties, dtype: int64"
      ]
     },
     "execution_count": 27,
     "metadata": {},
     "output_type": "execute_result"
    }
   ],
   "source": [
    "casualties_by_road_surface = acci.groupby(\"Road_Surface_Conditions\")[\"Number_of_Casualties\"].sum().sort_values(ascending=False)\n",
    "casualties_by_road_surface"
   ]
  },
  {
   "cell_type": "markdown",
   "id": "01ddd52b-8a18-4225-8fdc-ded5405efedb",
   "metadata": {},
   "source": [
    "<h2 style=\"color: green\"> Insight no 8 -  \"Dry\" roads have the highest number of casualties, but this is likely due to their frequent occurrence. However, wet and icy conditions show significantly higher accident severity.</h2>"
   ]
  },
  {
   "cell_type": "markdown",
   "id": "c3fc6ae4-019f-4ff7-b907-964e1636e08e",
   "metadata": {},
   "source": [
    "<h1>Problem 9 - Weather condition with the highest accident count?</h1>"
   ]
  },
  {
   "cell_type": "code",
   "execution_count": 28,
   "id": "6f4f5c28-464f-4a27-8bea-c56c13d067f1",
   "metadata": {},
   "outputs": [
    {
     "data": {
      "text/plain": [
       "Weather_Conditions\n",
       "Fine no high winds       520885\n",
       "Raining no high winds     79696\n",
       "Other                     17150\n",
       "Raining + high winds       9615\n",
       "Fine + high winds          8554\n",
       "Snowing no high winds      6238\n",
       "Fog or mist                3528\n",
       "Snowing + high winds        885\n",
       "Name: count, dtype: int64"
      ]
     },
     "execution_count": 28,
     "metadata": {},
     "output_type": "execute_result"
    }
   ],
   "source": [
    "most_accidents_weather = acci[\"Weather_Conditions\"].value_counts()\n",
    "most_accidents_weather"
   ]
  },
  {
   "cell_type": "markdown",
   "id": "57b6faa0-f587-416e-b492-7270c5f7ef94",
   "metadata": {},
   "source": [
    "<h2 style=\"color: blue\"> Insight no 9 - The most common weather condition during accidents is \"Fine no high winds\". This suggests that most accidents occur under normal weather conditions, possibly due to higher traffic volume rather than hazardous weather.</h2>"
   ]
  },
  {
   "cell_type": "markdown",
   "id": "8192cc35-7832-4abf-8c8c-a06c8869f2e1",
   "metadata": {},
   "source": [
    "<h1>Problem 10 - Which road type has the highest proportion of serious and fatal accidents?</h1>"
   ]
  },
  {
   "cell_type": "code",
   "execution_count": 29,
   "id": "49b7a519-6142-49a2-a05f-dd1d3e8b6e42",
   "metadata": {},
   "outputs": [
    {
     "data": {
      "text/plain": [
       "Road_Type\n",
       "Single carriageway    79.58\n",
       "Dual carriageway      14.00\n",
       "Roundabout             3.93\n",
       "One way street         1.81\n",
       "Slip road              0.68\n",
       "Name: proportion, dtype: float64"
      ]
     },
     "execution_count": 29,
     "metadata": {},
     "output_type": "execute_result"
    }
   ],
   "source": [
    "serious_fatal_accidents = acci[acci[\"Accident_Severity\"].isin([\"Serious\", \"Fatal\"])]\n",
    "proportion_serious_fatal_road = (serious_fatal_accidents[\"Road_Type\"].value_counts(normalize=True) * 100).round(2)\n",
    "\n",
    "proportion_serious_fatal_road"
   ]
  },
  {
   "cell_type": "markdown",
   "id": "b39a6caa-0c13-4ea4-bf12-6530c662ed35",
   "metadata": {},
   "source": [
    "<h2 style=\"color: violet\"> Insight no 10 - Single carriageways have the highest proportion of serious and fatal accidents. This is likely due to high-speed limits, lack of dividers, and dangerous overtaking maneuvers.</h2>"
   ]
  },
  {
   "cell_type": "markdown",
   "id": "58c49f3d-fe2f-481f-a914-32f5add64c58",
   "metadata": {},
   "source": [
    "<h1>Problem 11 - What is the average number of casualties in urban areas during daylight?</h1>"
   ]
  },
  {
   "cell_type": "code",
   "execution_count": 30,
   "id": "01c7d25d-c8c8-4f41-bbb8-38be9b0af580",
   "metadata": {},
   "outputs": [
    {
     "data": {
      "text/plain": [
       "np.float64(1.2688250554889653)"
      ]
     },
     "execution_count": 30,
     "metadata": {},
     "output_type": "execute_result"
    }
   ],
   "source": [
    "acci[(acci[\"Urban_or_Rural_Area\"] == \"Urban\") & (acci[\"Light_Conditions\"] == \"Daylight\")][\"Number_of_Casualties\"].mean()"
   ]
  },
  {
   "cell_type": "markdown",
   "id": "92284cfb-7644-4479-a208-61f7433b4871",
   "metadata": {},
   "source": [
    "<h2 style=\"color: Violet\"> Insight no 11 - The average number of casualties in urban daylight accidents is around 1.27. This suggests that while accidents are frequent, they typically involve only one or two casualties.</h2>"
   ]
  },
  {
   "cell_type": "markdown",
   "id": "3ab4daad-2731-4335-8ca0-2c55fc98d0b1",
   "metadata": {},
   "source": [
    "<h1>Problem 12 - What is the average number of casualties in rural areas at night?</h1>"
   ]
  },
  {
   "cell_type": "code",
   "execution_count": 31,
   "id": "3f0421a7-8e98-4a31-9ca0-9cb062ee99d3",
   "metadata": {},
   "outputs": [
    {
     "data": {
      "text/plain": [
       "np.float64(1.514220615964802)"
      ]
     },
     "execution_count": 31,
     "metadata": {},
     "output_type": "execute_result"
    }
   ],
   "source": [
    "acci[(acci[\"Urban_or_Rural_Area\"] == \"Rural\") & (acci[\"Light_Conditions\"].str.contains(\"Darkness\"))][\"Number_of_Casualties\"].mean()\n"
   ]
  },
  {
   "cell_type": "markdown",
   "id": "790bbf9a-28de-4edf-8191-004a929b0c84",
   "metadata": {},
   "source": [
    "<h2 style=\"color: Violet\"> Insight no 12 - The average casualties in rural nighttime accidents are around 1.51, which is slightly higher than urban accidents. This could be due to high-speed collisions and poor visibility at night.</h2>"
   ]
  },
  {
   "cell_type": "markdown",
   "id": "0a6de124-0101-451a-94c7-20f7955d5504",
   "metadata": {},
   "source": [
    "<h1>Problem 13 - What is the most common vehicle type involved in slight accidents?</h1>"
   ]
  },
  {
   "cell_type": "code",
   "execution_count": 32,
   "id": "9c6c9804-b0d8-4287-86dc-35bdcca27c82",
   "metadata": {},
   "outputs": [
    {
     "data": {
      "text/plain": [
       "'Car'"
      ]
     },
     "execution_count": 32,
     "metadata": {},
     "output_type": "execute_result"
    }
   ],
   "source": [
    "acci[acci[\"Accident_Severity\"] == \"Slight\"][\"Vehicle_Type\"].mode()[0]\n"
   ]
  },
  {
   "cell_type": "markdown",
   "id": "6bce9f53-d754-44bc-9905-d7911cc3c644",
   "metadata": {},
   "source": [
    "<h2 style=\"color: Green\"> Insight no 13 - Cars are the most common vehicle type involved in slight accidents. This is expected, as they make up the majority of road traffic.</h2>"
   ]
  },
  {
   "cell_type": "markdown",
   "id": "1a69e960-2bcd-4b4b-b5b6-42df0e0d5ffe",
   "metadata": {},
   "source": [
    "<h1>Problem 14 - What is the most common road type for accidents in fine weather?</h1>"
   ]
  },
  {
   "cell_type": "code",
   "execution_count": 33,
   "id": "d4907d4d-bdab-4486-9591-cafeecf2d060",
   "metadata": {},
   "outputs": [
    {
     "data": {
      "text/plain": [
       "'Single carriageway'"
      ]
     },
     "execution_count": 33,
     "metadata": {},
     "output_type": "execute_result"
    }
   ],
   "source": [
    "acci[acci[\"Weather_Conditions\"] == \"Fine no high winds\"][\"Road_Type\"].mode()[0]\n"
   ]
  },
  {
   "cell_type": "markdown",
   "id": "459cbb03-a56d-43dc-ada8-dd6e80626d78",
   "metadata": {},
   "source": [
    "<h2 style=\"color: Green\"> Insight no 14 - TSingle carriageways are the most common road type for accidents in fine weather. This suggests that traffic volume, speed, and road design contribute more to accidents than weather conditions. </h2>"
   ]
  },
  {
   "cell_type": "markdown",
   "id": "8db6428d-6868-4cb8-80c6-9dc01dfe095f",
   "metadata": {},
   "source": [
    "<h1>Problem 15 - What is the average number of vehicles involved in accidents when the weather is raining and it's night?</h1>"
   ]
  },
  {
   "cell_type": "code",
   "execution_count": 34,
   "id": "41e59ddb-6fd6-4f09-87b4-81fdef36cbcb",
   "metadata": {},
   "outputs": [
    {
     "data": {
      "text/plain": [
       "np.float64(1.7491552834493314)"
      ]
     },
     "execution_count": 34,
     "metadata": {},
     "output_type": "execute_result"
    }
   ],
   "source": [
    "acci[(acci[\"Weather_Conditions\"].str.contains(\"Raining\", na=False)) & (acci[\"Light_Conditions\"].str.contains(\"Darkness\"))][\"Number_of_Vehicles\"].mean()\n"
   ]
  },
  {
   "cell_type": "markdown",
   "id": "af23681b-7b28-4443-8edf-29b2a271e799",
   "metadata": {},
   "source": [
    "<h2 style=\"color: Violet\"> Insight no 15 - : On average, 1.75 vehicles are involved in nighttime rain accidents. This indicates a higher chance of multi-vehicle collisions, likely due to slippery roads and reduced visibility.</h2>"
   ]
  },
  {
   "cell_type": "markdown",
   "id": "2b856626-ddb3-42b9-8bdf-6ae035e24007",
   "metadata": {},
   "source": [
    "<h1>Problem 16 - Is there a correlation between the number of casualties and the number of vehicles involved?</h1>"
   ]
  },
  {
   "cell_type": "code",
   "execution_count": 35,
   "id": "12ddd514-cba7-4322-a29b-b4ffd7327bff",
   "metadata": {},
   "outputs": [
    {
     "data": {
      "text/plain": [
       "np.float64(0.2)"
      ]
     },
     "execution_count": 35,
     "metadata": {},
     "output_type": "execute_result"
    }
   ],
   "source": [
    "casualties_vehicles_corr = np.round(acci[\"Number_of_Casualties\"].corr(acci[\"Number_of_Vehicles\"]), 1)\n",
    "casualties_vehicles_corr"
   ]
  },
  {
   "cell_type": "markdown",
   "id": "3c9bbb46-2b2e-46c2-9c7a-119f6f9c7d1d",
   "metadata": {},
   "source": [
    "<h2 style=\"color: green\"> Insight no 16 - There is a weak positive correlation (0.2), meaning that as the number of vehicles in an accident increases, the number of casualties tends to rise slightly.</h2>"
   ]
  },
  {
   "cell_type": "markdown",
   "id": "facabff6-5041-4366-9b4c-2140a65d4ecc",
   "metadata": {},
   "source": [
    "<h1>Problem 17 - Is there a correlation between longitude and latitude?</h1>"
   ]
  },
  {
   "cell_type": "code",
   "execution_count": 36,
   "id": "04945d17-046c-4fed-bdc4-ac6f7dbd3b00",
   "metadata": {},
   "outputs": [
    {
     "data": {
      "text/plain": [
       "np.float64(-0.4)"
      ]
     },
     "execution_count": 36,
     "metadata": {},
     "output_type": "execute_result"
    }
   ],
   "source": [
    "location_corr = np.round(acci[\"Longitude\"].corr(acci[\"Latitude\"]), 1)\n",
    "location_corr"
   ]
  },
  {
   "cell_type": "markdown",
   "id": "44efab94-7127-4b76-a0e1-414e4542bee5",
   "metadata": {},
   "source": [
    "<h2 style=\"color: green\"> Insight no 17 - There is a weak negative correlation (-0.4), which may indicate a geographical trend in accident locations but not a strong predictive factor.</h2>"
   ]
  },
  {
   "cell_type": "markdown",
   "id": "28261ee1-2e0b-4f4b-a5a6-5404f0728d7c",
   "metadata": {},
   "source": [
    "<h1>Problem 18 - How many accident happen in the light condition \"Day light\" in 2019 </h1>"
   ]
  },
  {
   "cell_type": "code",
   "execution_count": 37,
   "id": "22fa9dbe-ce85-4f21-9793-34cf61358aac",
   "metadata": {},
   "outputs": [
    {
     "data": {
      "text/plain": [
       "Light_Conditions\n",
       "Daylight                       52518\n",
       "Darkness - lights lit          14124\n",
       "Darkness - no lighting          4242\n",
       "Darkness - lighting unknown      719\n",
       "Darkness - lights unlit          264\n",
       "Name: count, dtype: int64"
      ]
     },
     "execution_count": 37,
     "metadata": {},
     "output_type": "execute_result"
    }
   ],
   "source": [
    "acci_2019 = acci[acci['Year'] == 2019]\n",
    "\n",
    "day_light_sum = acci_2019[\"Light_Conditions\"].value_counts()\n",
    "\n",
    "day_light_sum"
   ]
  },
  {
   "cell_type": "markdown",
   "id": "a1ac5214-740c-4623-80c8-142c7857df8c",
   "metadata": {},
   "source": [
    "<h2 style=\"color: green\"> Insight no 18 - In 2019, 52,518 accidents occurred in daylight. This highlights that most accidents happen during the day, possibly due to higher traffic density.</h2>"
   ]
  },
  {
   "cell_type": "markdown",
   "id": "9a787a2f-6788-4035-a572-bac742dc47f1",
   "metadata": {},
   "source": [
    "<h1>Problem 19 - What's the total of fatal severity accident that is caused by daylight</h1>"
   ]
  },
  {
   "cell_type": "code",
   "execution_count": 38,
   "id": "394d2381-5bd5-4946-8a1c-17b599f2a92d",
   "metadata": {},
   "outputs": [
    {
     "data": {
      "text/html": [
       "<div>\n",
       "<style scoped>\n",
       "    .dataframe tbody tr th:only-of-type {\n",
       "        vertical-align: middle;\n",
       "    }\n",
       "\n",
       "    .dataframe tbody tr th {\n",
       "        vertical-align: top;\n",
       "    }\n",
       "\n",
       "    .dataframe thead th {\n",
       "        text-align: right;\n",
       "    }\n",
       "</style>\n",
       "<table border=\"1\" class=\"dataframe\">\n",
       "  <thead>\n",
       "    <tr style=\"text-align: right;\">\n",
       "      <th>Light_Conditions</th>\n",
       "      <th>Darkness - lighting unknown</th>\n",
       "      <th>Darkness - lights lit</th>\n",
       "      <th>Darkness - lights unlit</th>\n",
       "      <th>Darkness - no lighting</th>\n",
       "      <th>Daylight</th>\n",
       "    </tr>\n",
       "    <tr>\n",
       "      <th>Accident_Severity</th>\n",
       "      <th></th>\n",
       "      <th></th>\n",
       "      <th></th>\n",
       "      <th></th>\n",
       "      <th></th>\n",
       "    </tr>\n",
       "  </thead>\n",
       "  <tbody>\n",
       "    <tr>\n",
       "      <th>Fatal</th>\n",
       "      <td>68</td>\n",
       "      <td>1860</td>\n",
       "      <td>45</td>\n",
       "      <td>1612</td>\n",
       "      <td>5076</td>\n",
       "    </tr>\n",
       "    <tr>\n",
       "      <th>Serious</th>\n",
       "      <td>794</td>\n",
       "      <td>19130</td>\n",
       "      <td>360</td>\n",
       "      <td>7174</td>\n",
       "      <td>60759</td>\n",
       "    </tr>\n",
       "    <tr>\n",
       "      <th>Slight</th>\n",
       "      <td>5622</td>\n",
       "      <td>108345</td>\n",
       "      <td>2138</td>\n",
       "      <td>28651</td>\n",
       "      <td>419045</td>\n",
       "    </tr>\n",
       "  </tbody>\n",
       "</table>\n",
       "</div>"
      ],
      "text/plain": [
       "Light_Conditions   Darkness - lighting unknown  Darkness - lights lit  \\\n",
       "Accident_Severity                                                       \n",
       "Fatal                                       68                   1860   \n",
       "Serious                                    794                  19130   \n",
       "Slight                                    5622                 108345   \n",
       "\n",
       "Light_Conditions   Darkness - lights unlit  Darkness - no lighting  Daylight  \n",
       "Accident_Severity                                                             \n",
       "Fatal                                   45                    1612      5076  \n",
       "Serious                                360                    7174     60759  \n",
       "Slight                                2138                   28651    419045  "
      ]
     },
     "execution_count": 38,
     "metadata": {},
     "output_type": "execute_result"
    }
   ],
   "source": [
    "acci_sever = acci.groupby([\"Accident_Severity\",\"Light_Conditions\"]).size()\n",
    "acci_sever.unstack()"
   ]
  },
  {
   "cell_type": "markdown",
   "id": "9ffaa5ed-8759-4545-a462-6fa618b38a5d",
   "metadata": {},
   "source": [
    "<h2 style=\"color: green\"> Insight no 19 - The number of fatal accidents in daylight is 5,076, which is the highest among all light conditions. This suggests that daylight does not necessarily reduce accident severity.</h2>"
   ]
  },
  {
   "cell_type": "markdown",
   "id": "253a8992-dccf-4899-9ff1-aa259a47760f",
   "metadata": {},
   "source": [
    "<h1>Problem 20 - What type of car is the highest accident rate</h1>"
   ]
  },
  {
   "cell_type": "code",
   "execution_count": 39,
   "id": "d4d1919e-ed50-424c-aaf2-9176cff928c9",
   "metadata": {},
   "outputs": [
    {
     "data": {
      "text/plain": [
       "Vehicle_Type\n",
       "Car                                      497992\n",
       "Van / Goods 3.5 tonnes mgw or under       34160\n",
       "Bus or coach (17 or more pass seats)      25878\n",
       "Motorcycle over 500cc                     25657\n",
       "Goods 7.5 tonnes mgw and over             17307\n",
       "Motorcycle 125cc and under                15269\n",
       "Taxi/Private hire car                     13294\n",
       "Motorcycle over 125cc and up to 500cc      7656\n",
       "Motorcycle 50cc and under                  7603\n",
       "Goods over 3.5t. and under 7.5t            6096\n",
       "Other vehicle                              5637\n",
       "Minibus (8 - 16 passenger seats)           1976\n",
       "Agricultural vehicle                       1947\n",
       "Pedal cycle                                 197\n",
       "Data missing or out of range                  6\n",
       "Ridden horse                                  4\n",
       "Name: count, dtype: int64"
      ]
     },
     "execution_count": 39,
     "metadata": {},
     "output_type": "execute_result"
    }
   ],
   "source": [
    "acci[\"Vehicle_Type\"].value_counts()"
   ]
  },
  {
   "cell_type": "markdown",
   "id": "cf9cbc5a-5b1a-4c92-9916-61a57b2e0ea8",
   "metadata": {},
   "source": [
    "<h2 style=\"color: blue\"> Insight no 20 - Regular cars have the highest accident count, with nearly 500,000 accidents. This is expected since they are the most common type of vehicle on the road.</h2>"
   ]
  },
  {
   "cell_type": "code",
   "execution_count": 40,
   "id": "9d3e76b3-6c55-448d-a36f-c1584eb2e3a7",
   "metadata": {},
   "outputs": [],
   "source": [
    "acci_2019 = acci[acci['Year'] == 2019]\n",
    "acci_2020 = acci[acci['Year'] == 2020]\n",
    "acci_2021 = acci[acci['Year'] == 2021]\n",
    "acci_2022 = acci[acci['Year'] == 2022]"
   ]
  },
  {
   "cell_type": "markdown",
   "id": "030e83f8-6698-4776-bfc2-c702771c692a",
   "metadata": {},
   "source": [
    "<h1>Problem 21 - What year has the highest accident rate?</h1>"
   ]
  },
  {
   "cell_type": "code",
   "execution_count": 41,
   "id": "74f1eeb4-81e8-4841-94a2-e529411aaed1",
   "metadata": {},
   "outputs": [
    {
     "data": {
      "text/plain": [
       "Year\n",
       "2019.0    71867\n",
       "2020.0    70163\n",
       "2021.0    66172\n",
       "2022.0    56805\n",
       "Name: count, dtype: int64"
      ]
     },
     "execution_count": 41,
     "metadata": {},
     "output_type": "execute_result"
    }
   ],
   "source": [
    "acci[\"Year\"].value_counts()"
   ]
  },
  {
   "cell_type": "markdown",
   "id": "a5715466-065b-4c78-ba51-ddf0e2a327c9",
   "metadata": {},
   "source": [
    "<h2 style=\"color: blue\"> Insight no 21 - The year 2019 has the highest accident rate recorded in datasets</h2>"
   ]
  },
  {
   "cell_type": "markdown",
   "id": "68485a96-3e21-4321-abce-6d59ae466579",
   "metadata": {},
   "source": [
    "<h1>Problem 22 - What year has the highest fatality? </h1>"
   ]
  },
  {
   "cell_type": "code",
   "execution_count": 42,
   "id": "7ea60285-1e20-4915-a819-68b9e53f96c5",
   "metadata": {},
   "outputs": [
    {
     "data": {
      "text/html": [
       "<div>\n",
       "<style scoped>\n",
       "    .dataframe tbody tr th:only-of-type {\n",
       "        vertical-align: middle;\n",
       "    }\n",
       "\n",
       "    .dataframe tbody tr th {\n",
       "        vertical-align: top;\n",
       "    }\n",
       "\n",
       "    .dataframe thead th {\n",
       "        text-align: right;\n",
       "    }\n",
       "</style>\n",
       "<table border=\"1\" class=\"dataframe\">\n",
       "  <thead>\n",
       "    <tr style=\"text-align: right;\">\n",
       "      <th>Year</th>\n",
       "      <th>2019.0</th>\n",
       "      <th>2020.0</th>\n",
       "      <th>2021.0</th>\n",
       "      <th>2022.0</th>\n",
       "    </tr>\n",
       "    <tr>\n",
       "      <th>Accident_Severity</th>\n",
       "      <th></th>\n",
       "      <th></th>\n",
       "      <th></th>\n",
       "      <th></th>\n",
       "    </tr>\n",
       "  </thead>\n",
       "  <tbody>\n",
       "    <tr>\n",
       "      <th>Fatal</th>\n",
       "      <td>1116</td>\n",
       "      <td>942</td>\n",
       "      <td>823</td>\n",
       "      <td>623</td>\n",
       "    </tr>\n",
       "    <tr>\n",
       "      <th>Serious</th>\n",
       "      <td>9823</td>\n",
       "      <td>9346</td>\n",
       "      <td>8858</td>\n",
       "      <td>7266</td>\n",
       "    </tr>\n",
       "    <tr>\n",
       "      <th>Slight</th>\n",
       "      <td>60928</td>\n",
       "      <td>59875</td>\n",
       "      <td>56491</td>\n",
       "      <td>48916</td>\n",
       "    </tr>\n",
       "  </tbody>\n",
       "</table>\n",
       "</div>"
      ],
      "text/plain": [
       "Year               2019.0  2020.0  2021.0  2022.0\n",
       "Accident_Severity                                \n",
       "Fatal                1116     942     823     623\n",
       "Serious              9823    9346    8858    7266\n",
       "Slight              60928   59875   56491   48916"
      ]
     },
     "execution_count": 42,
     "metadata": {},
     "output_type": "execute_result"
    }
   ],
   "source": [
    "acci_all_year = acci.groupby([\"Accident_Severity\",\"Year\"]).size()\n",
    "acci_all_year.unstack()"
   ]
  },
  {
   "cell_type": "markdown",
   "id": "eddf680d-01cb-4ff7-ba9e-fa5ee090f0eb",
   "metadata": {},
   "source": [
    "<h2 style=\"color: green\"> Insight no 22 - The year 2019 has the highest fatal rate recorded in datasets</h2>"
   ]
  },
  {
   "cell_type": "markdown",
   "id": "3050aac4-9181-485c-80e0-c169b7b3fee7",
   "metadata": {},
   "source": [
    "<h1>Problem 23 - Does fatal accidents go down or up from the past records which is 2019 to the latest 2022?</h1>"
   ]
  },
  {
   "cell_type": "code",
   "execution_count": 43,
   "id": "af19775c-41c0-4c63-aa12-48b28b168950",
   "metadata": {},
   "outputs": [
    {
     "data": {
      "text/html": [
       "<div>\n",
       "<style scoped>\n",
       "    .dataframe tbody tr th:only-of-type {\n",
       "        vertical-align: middle;\n",
       "    }\n",
       "\n",
       "    .dataframe tbody tr th {\n",
       "        vertical-align: top;\n",
       "    }\n",
       "\n",
       "    .dataframe thead th {\n",
       "        text-align: right;\n",
       "    }\n",
       "</style>\n",
       "<table border=\"1\" class=\"dataframe\">\n",
       "  <thead>\n",
       "    <tr style=\"text-align: right;\">\n",
       "      <th>Year</th>\n",
       "      <th>2019.0</th>\n",
       "      <th>2020.0</th>\n",
       "      <th>2021.0</th>\n",
       "      <th>2022.0</th>\n",
       "    </tr>\n",
       "    <tr>\n",
       "      <th>Accident_Severity</th>\n",
       "      <th></th>\n",
       "      <th></th>\n",
       "      <th></th>\n",
       "      <th></th>\n",
       "    </tr>\n",
       "  </thead>\n",
       "  <tbody>\n",
       "    <tr>\n",
       "      <th>Fatal</th>\n",
       "      <td>1116</td>\n",
       "      <td>942</td>\n",
       "      <td>823</td>\n",
       "      <td>623</td>\n",
       "    </tr>\n",
       "    <tr>\n",
       "      <th>Serious</th>\n",
       "      <td>9823</td>\n",
       "      <td>9346</td>\n",
       "      <td>8858</td>\n",
       "      <td>7266</td>\n",
       "    </tr>\n",
       "    <tr>\n",
       "      <th>Slight</th>\n",
       "      <td>60928</td>\n",
       "      <td>59875</td>\n",
       "      <td>56491</td>\n",
       "      <td>48916</td>\n",
       "    </tr>\n",
       "  </tbody>\n",
       "</table>\n",
       "</div>"
      ],
      "text/plain": [
       "Year               2019.0  2020.0  2021.0  2022.0\n",
       "Accident_Severity                                \n",
       "Fatal                1116     942     823     623\n",
       "Serious              9823    9346    8858    7266\n",
       "Slight              60928   59875   56491   48916"
      ]
     },
     "execution_count": 43,
     "metadata": {},
     "output_type": "execute_result"
    }
   ],
   "source": [
    "acci_all_year = acci.groupby([\"Accident_Severity\",\"Year\"]).size()\n",
    "acci_all_year.unstack()"
   ]
  },
  {
   "cell_type": "markdown",
   "id": "0c9e47d7-ed61-48ac-853c-72a8a3456dc1",
   "metadata": {},
   "source": [
    "<h2 style=\"color: green\"> Insight no 23 - Based on the records, fatal accidents is going down as years goes by.</h2>"
   ]
  },
  {
   "cell_type": "markdown",
   "id": "f1ff3e51-4ea2-467a-9d46-74b585954c73",
   "metadata": {},
   "source": [
    "<h1>Problem 24 - What is the type of vehicles that has a high fatal record in 2019?</h1>"
   ]
  },
  {
   "cell_type": "code",
   "execution_count": 44,
   "id": "dbd3e012-47c7-4ba8-ab41-4690753be9ad",
   "metadata": {},
   "outputs": [
    {
     "data": {
      "text/html": [
       "<div>\n",
       "<style scoped>\n",
       "    .dataframe tbody tr th:only-of-type {\n",
       "        vertical-align: middle;\n",
       "    }\n",
       "\n",
       "    .dataframe tbody tr th {\n",
       "        vertical-align: top;\n",
       "    }\n",
       "\n",
       "    .dataframe thead th {\n",
       "        text-align: right;\n",
       "    }\n",
       "</style>\n",
       "<table border=\"1\" class=\"dataframe\">\n",
       "  <thead>\n",
       "    <tr style=\"text-align: right;\">\n",
       "      <th>Vehicle_Type</th>\n",
       "      <th>Agricultural vehicle</th>\n",
       "      <th>Bus or coach (17 or more pass seats)</th>\n",
       "      <th>Car</th>\n",
       "      <th>Data missing or out of range</th>\n",
       "      <th>Goods 7.5 tonnes mgw and over</th>\n",
       "      <th>Goods over 3.5t. and under 7.5t</th>\n",
       "      <th>Minibus (8 - 16 passenger seats)</th>\n",
       "      <th>Motorcycle 125cc and under</th>\n",
       "      <th>Motorcycle 50cc and under</th>\n",
       "      <th>Motorcycle over 125cc and up to 500cc</th>\n",
       "      <th>Motorcycle over 500cc</th>\n",
       "      <th>Other vehicle</th>\n",
       "      <th>Pedal cycle</th>\n",
       "      <th>Ridden horse</th>\n",
       "      <th>Taxi/Private hire car</th>\n",
       "      <th>Van / Goods 3.5 tonnes mgw or under</th>\n",
       "    </tr>\n",
       "    <tr>\n",
       "      <th>Accident_Severity</th>\n",
       "      <th></th>\n",
       "      <th></th>\n",
       "      <th></th>\n",
       "      <th></th>\n",
       "      <th></th>\n",
       "      <th></th>\n",
       "      <th></th>\n",
       "      <th></th>\n",
       "      <th></th>\n",
       "      <th></th>\n",
       "      <th></th>\n",
       "      <th></th>\n",
       "      <th></th>\n",
       "      <th></th>\n",
       "      <th></th>\n",
       "      <th></th>\n",
       "    </tr>\n",
       "  </thead>\n",
       "  <tbody>\n",
       "    <tr>\n",
       "      <th>Fatal</th>\n",
       "      <td>2</td>\n",
       "      <td>64</td>\n",
       "      <td>798</td>\n",
       "      <td>0</td>\n",
       "      <td>45</td>\n",
       "      <td>10</td>\n",
       "      <td>6</td>\n",
       "      <td>37</td>\n",
       "      <td>10</td>\n",
       "      <td>19</td>\n",
       "      <td>38</td>\n",
       "      <td>10</td>\n",
       "      <td>2</td>\n",
       "      <td>0</td>\n",
       "      <td>20</td>\n",
       "      <td>55</td>\n",
       "    </tr>\n",
       "    <tr>\n",
       "      <th>Serious</th>\n",
       "      <td>0</td>\n",
       "      <td>0</td>\n",
       "      <td>0</td>\n",
       "      <td>0</td>\n",
       "      <td>0</td>\n",
       "      <td>0</td>\n",
       "      <td>0</td>\n",
       "      <td>0</td>\n",
       "      <td>0</td>\n",
       "      <td>0</td>\n",
       "      <td>0</td>\n",
       "      <td>0</td>\n",
       "      <td>0</td>\n",
       "      <td>0</td>\n",
       "      <td>0</td>\n",
       "      <td>0</td>\n",
       "    </tr>\n",
       "    <tr>\n",
       "      <th>Slight</th>\n",
       "      <td>0</td>\n",
       "      <td>0</td>\n",
       "      <td>0</td>\n",
       "      <td>0</td>\n",
       "      <td>0</td>\n",
       "      <td>0</td>\n",
       "      <td>0</td>\n",
       "      <td>0</td>\n",
       "      <td>0</td>\n",
       "      <td>0</td>\n",
       "      <td>0</td>\n",
       "      <td>0</td>\n",
       "      <td>0</td>\n",
       "      <td>0</td>\n",
       "      <td>0</td>\n",
       "      <td>0</td>\n",
       "    </tr>\n",
       "  </tbody>\n",
       "</table>\n",
       "</div>"
      ],
      "text/plain": [
       "Vehicle_Type       Agricultural vehicle  Bus or coach (17 or more pass seats)  \\\n",
       "Accident_Severity                                                               \n",
       "Fatal                                 2                                    64   \n",
       "Serious                               0                                     0   \n",
       "Slight                                0                                     0   \n",
       "\n",
       "Vehicle_Type       Car  Data missing or out of range  \\\n",
       "Accident_Severity                                      \n",
       "Fatal              798                             0   \n",
       "Serious              0                             0   \n",
       "Slight               0                             0   \n",
       "\n",
       "Vehicle_Type       Goods 7.5 tonnes mgw and over  \\\n",
       "Accident_Severity                                  \n",
       "Fatal                                         45   \n",
       "Serious                                        0   \n",
       "Slight                                         0   \n",
       "\n",
       "Vehicle_Type       Goods over 3.5t. and under 7.5t  \\\n",
       "Accident_Severity                                    \n",
       "Fatal                                           10   \n",
       "Serious                                          0   \n",
       "Slight                                           0   \n",
       "\n",
       "Vehicle_Type       Minibus (8 - 16 passenger seats)  \\\n",
       "Accident_Severity                                     \n",
       "Fatal                                             6   \n",
       "Serious                                           0   \n",
       "Slight                                            0   \n",
       "\n",
       "Vehicle_Type       Motorcycle 125cc and under  Motorcycle 50cc and under  \\\n",
       "Accident_Severity                                                          \n",
       "Fatal                                      37                         10   \n",
       "Serious                                     0                          0   \n",
       "Slight                                      0                          0   \n",
       "\n",
       "Vehicle_Type       Motorcycle over 125cc and up to 500cc  \\\n",
       "Accident_Severity                                          \n",
       "Fatal                                                 19   \n",
       "Serious                                                0   \n",
       "Slight                                                 0   \n",
       "\n",
       "Vehicle_Type       Motorcycle over 500cc  Other vehicle  Pedal cycle  \\\n",
       "Accident_Severity                                                      \n",
       "Fatal                                 38             10            2   \n",
       "Serious                                0              0            0   \n",
       "Slight                                 0              0            0   \n",
       "\n",
       "Vehicle_Type       Ridden horse  Taxi/Private hire car  \\\n",
       "Accident_Severity                                        \n",
       "Fatal                         0                     20   \n",
       "Serious                       0                      0   \n",
       "Slight                        0                      0   \n",
       "\n",
       "Vehicle_Type       Van / Goods 3.5 tonnes mgw or under  \n",
       "Accident_Severity                                       \n",
       "Fatal                                               55  \n",
       "Serious                                              0  \n",
       "Slight                                               0  "
      ]
     },
     "execution_count": 44,
     "metadata": {},
     "output_type": "execute_result"
    }
   ],
   "source": [
    "acci_fatal_2019 = acci[(acci['Year'] == 2019) & (acci['Accident_Severity'] == 'Fatal')]\n",
    "acci_fatal_car_max = acci_fatal_2019.groupby([\"Accident_Severity\", \"Vehicle_Type\"]).size().idxmax()\n",
    "acci_fatal_car = acci_fatal_2019.groupby([\"Accident_Severity\", \"Vehicle_Type\"]).size()\n",
    "acci_fatal_car.unstack()\n"
   ]
  },
  {
   "cell_type": "code",
   "execution_count": 45,
   "id": "b7dae182-c64c-4bc9-9508-a1f3d2633072",
   "metadata": {},
   "outputs": [
    {
     "data": {
      "text/plain": [
       "('Fatal', 'Car')"
      ]
     },
     "execution_count": 45,
     "metadata": {},
     "output_type": "execute_result"
    }
   ],
   "source": [
    "acci_fatal_car_max"
   ]
  },
  {
   "cell_type": "markdown",
   "id": "e40d9e9f-8be6-40bf-9869-d040acccfc16",
   "metadata": {},
   "source": [
    "<h2 style=\"color: green\"> Insight no 24 - The type of vehicles that has a high fatal record in 2019 is a CAR with 71.5%</h2>"
   ]
  },
  {
   "cell_type": "code",
   "execution_count": null,
   "id": "5e096a07-9e17-466c-a91c-42beeded6939",
   "metadata": {},
   "outputs": [],
   "source": []
  }
 ],
 "metadata": {
  "kernelspec": {
   "display_name": "Python 3 (ipykernel)",
   "language": "python",
   "name": "python3"
  },
  "language_info": {
   "codemirror_mode": {
    "name": "ipython",
    "version": 3
   },
   "file_extension": ".py",
   "mimetype": "text/x-python",
   "name": "python",
   "nbconvert_exporter": "python",
   "pygments_lexer": "ipython3",
   "version": "3.13.2"
  }
 },
 "nbformat": 4,
 "nbformat_minor": 5
}
