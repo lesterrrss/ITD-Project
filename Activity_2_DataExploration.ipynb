{
 "cells": [
  {
   "cell_type": "code",
   "execution_count": 1,
   "id": "ef513dad-2357-4f4d-a149-1ccccf55f7de",
   "metadata": {},
   "outputs": [],
   "source": [
    "import numpy as np\n",
    "import pandas as pd\n",
    "import seaborn as sns\n",
    "import matplotlib.pyplot as plt"
   ]
  },
  {
   "cell_type": "code",
   "execution_count": 2,
   "id": "1962aa0b-a60c-447a-b3dc-4eb14deab0cb",
   "metadata": {},
   "outputs": [],
   "source": [
    "penge = pd.read_csv('datasets\\\\penguins.csv')"
   ]
  },
  {
   "cell_type": "code",
   "execution_count": 3,
   "id": "bed836ce-49fe-42a2-be40-b114dafe9629",
   "metadata": {},
   "outputs": [
    {
     "data": {
      "text/html": [
       "<div>\n",
       "<style scoped>\n",
       "    .dataframe tbody tr th:only-of-type {\n",
       "        vertical-align: middle;\n",
       "    }\n",
       "\n",
       "    .dataframe tbody tr th {\n",
       "        vertical-align: top;\n",
       "    }\n",
       "\n",
       "    .dataframe thead th {\n",
       "        text-align: right;\n",
       "    }\n",
       "</style>\n",
       "<table border=\"1\" class=\"dataframe\">\n",
       "  <thead>\n",
       "    <tr style=\"text-align: right;\">\n",
       "      <th></th>\n",
       "      <th>rowid</th>\n",
       "      <th>species</th>\n",
       "      <th>island</th>\n",
       "      <th>bill_length_mm</th>\n",
       "      <th>bill_depth_mm</th>\n",
       "      <th>flipper_length_mm</th>\n",
       "      <th>body_mass_g</th>\n",
       "      <th>sex</th>\n",
       "      <th>year</th>\n",
       "    </tr>\n",
       "  </thead>\n",
       "  <tbody>\n",
       "    <tr>\n",
       "      <th>0</th>\n",
       "      <td>1</td>\n",
       "      <td>Adelie</td>\n",
       "      <td>Torgersen</td>\n",
       "      <td>39.1</td>\n",
       "      <td>18.7</td>\n",
       "      <td>181.0</td>\n",
       "      <td>3750.0</td>\n",
       "      <td>male</td>\n",
       "      <td>2007</td>\n",
       "    </tr>\n",
       "    <tr>\n",
       "      <th>1</th>\n",
       "      <td>2</td>\n",
       "      <td>Adelie</td>\n",
       "      <td>Torgersen</td>\n",
       "      <td>39.5</td>\n",
       "      <td>17.4</td>\n",
       "      <td>186.0</td>\n",
       "      <td>3800.0</td>\n",
       "      <td>female</td>\n",
       "      <td>2007</td>\n",
       "    </tr>\n",
       "    <tr>\n",
       "      <th>2</th>\n",
       "      <td>3</td>\n",
       "      <td>Adelie</td>\n",
       "      <td>Torgersen</td>\n",
       "      <td>40.3</td>\n",
       "      <td>18.0</td>\n",
       "      <td>195.0</td>\n",
       "      <td>3250.0</td>\n",
       "      <td>female</td>\n",
       "      <td>2007</td>\n",
       "    </tr>\n",
       "    <tr>\n",
       "      <th>3</th>\n",
       "      <td>4</td>\n",
       "      <td>Adelie</td>\n",
       "      <td>Torgersen</td>\n",
       "      <td>NaN</td>\n",
       "      <td>NaN</td>\n",
       "      <td>NaN</td>\n",
       "      <td>NaN</td>\n",
       "      <td>NaN</td>\n",
       "      <td>2007</td>\n",
       "    </tr>\n",
       "    <tr>\n",
       "      <th>4</th>\n",
       "      <td>5</td>\n",
       "      <td>Adelie</td>\n",
       "      <td>Torgersen</td>\n",
       "      <td>36.7</td>\n",
       "      <td>19.3</td>\n",
       "      <td>193.0</td>\n",
       "      <td>3450.0</td>\n",
       "      <td>female</td>\n",
       "      <td>2007</td>\n",
       "    </tr>\n",
       "    <tr>\n",
       "      <th>...</th>\n",
       "      <td>...</td>\n",
       "      <td>...</td>\n",
       "      <td>...</td>\n",
       "      <td>...</td>\n",
       "      <td>...</td>\n",
       "      <td>...</td>\n",
       "      <td>...</td>\n",
       "      <td>...</td>\n",
       "      <td>...</td>\n",
       "    </tr>\n",
       "    <tr>\n",
       "      <th>339</th>\n",
       "      <td>340</td>\n",
       "      <td>Chinstrap</td>\n",
       "      <td>Dream</td>\n",
       "      <td>55.8</td>\n",
       "      <td>19.8</td>\n",
       "      <td>207.0</td>\n",
       "      <td>4000.0</td>\n",
       "      <td>male</td>\n",
       "      <td>2009</td>\n",
       "    </tr>\n",
       "    <tr>\n",
       "      <th>340</th>\n",
       "      <td>341</td>\n",
       "      <td>Chinstrap</td>\n",
       "      <td>Dream</td>\n",
       "      <td>43.5</td>\n",
       "      <td>18.1</td>\n",
       "      <td>202.0</td>\n",
       "      <td>3400.0</td>\n",
       "      <td>female</td>\n",
       "      <td>2009</td>\n",
       "    </tr>\n",
       "    <tr>\n",
       "      <th>341</th>\n",
       "      <td>342</td>\n",
       "      <td>Chinstrap</td>\n",
       "      <td>Dream</td>\n",
       "      <td>49.6</td>\n",
       "      <td>18.2</td>\n",
       "      <td>193.0</td>\n",
       "      <td>3775.0</td>\n",
       "      <td>male</td>\n",
       "      <td>2009</td>\n",
       "    </tr>\n",
       "    <tr>\n",
       "      <th>342</th>\n",
       "      <td>343</td>\n",
       "      <td>Chinstrap</td>\n",
       "      <td>Dream</td>\n",
       "      <td>50.8</td>\n",
       "      <td>19.0</td>\n",
       "      <td>210.0</td>\n",
       "      <td>4100.0</td>\n",
       "      <td>male</td>\n",
       "      <td>2009</td>\n",
       "    </tr>\n",
       "    <tr>\n",
       "      <th>343</th>\n",
       "      <td>344</td>\n",
       "      <td>Chinstrap</td>\n",
       "      <td>Dream</td>\n",
       "      <td>50.2</td>\n",
       "      <td>18.7</td>\n",
       "      <td>198.0</td>\n",
       "      <td>3775.0</td>\n",
       "      <td>female</td>\n",
       "      <td>2009</td>\n",
       "    </tr>\n",
       "  </tbody>\n",
       "</table>\n",
       "<p>344 rows × 9 columns</p>\n",
       "</div>"
      ],
      "text/plain": [
       "     rowid    species     island  bill_length_mm  bill_depth_mm  \\\n",
       "0        1     Adelie  Torgersen            39.1           18.7   \n",
       "1        2     Adelie  Torgersen            39.5           17.4   \n",
       "2        3     Adelie  Torgersen            40.3           18.0   \n",
       "3        4     Adelie  Torgersen             NaN            NaN   \n",
       "4        5     Adelie  Torgersen            36.7           19.3   \n",
       "..     ...        ...        ...             ...            ...   \n",
       "339    340  Chinstrap      Dream            55.8           19.8   \n",
       "340    341  Chinstrap      Dream            43.5           18.1   \n",
       "341    342  Chinstrap      Dream            49.6           18.2   \n",
       "342    343  Chinstrap      Dream            50.8           19.0   \n",
       "343    344  Chinstrap      Dream            50.2           18.7   \n",
       "\n",
       "     flipper_length_mm  body_mass_g     sex  year  \n",
       "0                181.0       3750.0    male  2007  \n",
       "1                186.0       3800.0  female  2007  \n",
       "2                195.0       3250.0  female  2007  \n",
       "3                  NaN          NaN     NaN  2007  \n",
       "4                193.0       3450.0  female  2007  \n",
       "..                 ...          ...     ...   ...  \n",
       "339              207.0       4000.0    male  2009  \n",
       "340              202.0       3400.0  female  2009  \n",
       "341              193.0       3775.0    male  2009  \n",
       "342              210.0       4100.0    male  2009  \n",
       "343              198.0       3775.0  female  2009  \n",
       "\n",
       "[344 rows x 9 columns]"
      ]
     },
     "execution_count": 3,
     "metadata": {},
     "output_type": "execute_result"
    }
   ],
   "source": [
    "penge"
   ]
  },
  {
   "cell_type": "code",
   "execution_count": 4,
   "id": "1bb89249-e574-48f5-b886-cb73a15d7d05",
   "metadata": {},
   "outputs": [
    {
     "name": "stdout",
     "output_type": "stream",
     "text": [
      "<class 'pandas.core.frame.DataFrame'>\n",
      "RangeIndex: 344 entries, 0 to 343\n",
      "Data columns (total 9 columns):\n",
      " #   Column             Non-Null Count  Dtype  \n",
      "---  ------             --------------  -----  \n",
      " 0   rowid              344 non-null    int64  \n",
      " 1   species            344 non-null    object \n",
      " 2   island             344 non-null    object \n",
      " 3   bill_length_mm     342 non-null    float64\n",
      " 4   bill_depth_mm      342 non-null    float64\n",
      " 5   flipper_length_mm  342 non-null    float64\n",
      " 6   body_mass_g        342 non-null    float64\n",
      " 7   sex                333 non-null    object \n",
      " 8   year               344 non-null    int64  \n",
      "dtypes: float64(4), int64(2), object(3)\n",
      "memory usage: 24.3+ KB\n"
     ]
    }
   ],
   "source": [
    "penge.info()"
   ]
  },
  {
   "cell_type": "code",
   "execution_count": 5,
   "id": "73eb0656-0d19-410c-9dba-4d66d7f7c03c",
   "metadata": {},
   "outputs": [
    {
     "data": {
      "text/plain": [
       "rowid                 0\n",
       "species               0\n",
       "island                0\n",
       "bill_length_mm        2\n",
       "bill_depth_mm         2\n",
       "flipper_length_mm     2\n",
       "body_mass_g           2\n",
       "sex                  11\n",
       "year                  0\n",
       "dtype: int64"
      ]
     },
     "execution_count": 5,
     "metadata": {},
     "output_type": "execute_result"
    }
   ],
   "source": [
    "penge.isnull().sum()"
   ]
  },
  {
   "cell_type": "code",
   "execution_count": 6,
   "id": "f0c2617b-560c-4d57-88c7-ee831ef1250d",
   "metadata": {},
   "outputs": [],
   "source": [
    "penge['bill_length_mm'] = penge['bill_length_mm'].fillna(penge['bill_length_mm'].mean())"
   ]
  },
  {
   "cell_type": "code",
   "execution_count": 7,
   "id": "c861327c-6eef-4687-a67c-d3dd9b7fda51",
   "metadata": {},
   "outputs": [],
   "source": [
    "penge['bill_depth_mm'] = penge['bill_depth_mm'].fillna(penge['bill_depth_mm'].mean())"
   ]
  },
  {
   "cell_type": "code",
   "execution_count": 8,
   "id": "4a47e2b6-fcb6-46b2-b4a9-22798cec645c",
   "metadata": {},
   "outputs": [],
   "source": [
    "penge['flipper_length_mm'] = penge['flipper_length_mm'].fillna(penge['flipper_length_mm'].mean())"
   ]
  },
  {
   "cell_type": "code",
   "execution_count": 9,
   "id": "0e9bb680-6c35-47bd-b98f-3e0630f0c70f",
   "metadata": {},
   "outputs": [],
   "source": [
    "penge['body_mass_g'] = penge['body_mass_g'].fillna(penge['body_mass_g'].mean())"
   ]
  },
  {
   "cell_type": "code",
   "execution_count": 10,
   "id": "e255f65b-2f5c-4b28-ad95-ac7fc40806e2",
   "metadata": {},
   "outputs": [],
   "source": [
    "penge['sex'] = penge['sex'].fillna(penge['sex'].mode()[0])"
   ]
  },
  {
   "cell_type": "code",
   "execution_count": 11,
   "id": "487d4e8c-c5aa-48fb-baf6-cf8a919d327b",
   "metadata": {},
   "outputs": [
    {
     "data": {
      "text/plain": [
       "rowid                  int64\n",
       "species               object\n",
       "island                object\n",
       "bill_length_mm       float64\n",
       "bill_depth_mm        float64\n",
       "flipper_length_mm    float64\n",
       "body_mass_g          float64\n",
       "sex                   object\n",
       "year                   int64\n",
       "dtype: object"
      ]
     },
     "execution_count": 11,
     "metadata": {},
     "output_type": "execute_result"
    }
   ],
   "source": [
    "penge.dtypes"
   ]
  },
  {
   "cell_type": "code",
   "execution_count": 12,
   "id": "5e39c139-cb74-4b5b-a8e6-33cf40638a7a",
   "metadata": {},
   "outputs": [],
   "source": [
    "penge['rowid'] = penge['rowid'].astype('category')"
   ]
  },
  {
   "cell_type": "code",
   "execution_count": 13,
   "id": "55211f6a-c185-4502-a4d1-8e762ed5af2f",
   "metadata": {},
   "outputs": [],
   "source": [
    "penge['species'] = penge['species'].astype('category')"
   ]
  },
  {
   "cell_type": "code",
   "execution_count": 14,
   "id": "79b19d4e-3dbd-4322-b7e4-07658ba71484",
   "metadata": {},
   "outputs": [],
   "source": [
    "penge['island'] = penge['island'].astype('category')"
   ]
  },
  {
   "cell_type": "code",
   "execution_count": 15,
   "id": "9136318b-6e04-4070-a21d-29f3f0bdaea3",
   "metadata": {},
   "outputs": [],
   "source": [
    "penge['sex'] = penge['sex'].astype('category')"
   ]
  },
  {
   "cell_type": "code",
   "execution_count": 16,
   "id": "30352265-dd83-41e7-91b5-5fd9d7ab4943",
   "metadata": {},
   "outputs": [],
   "source": [
    "penge['year'] = penge['year'].astype('category')"
   ]
  },
  {
   "cell_type": "code",
   "execution_count": 17,
   "id": "77110a1a-908d-4f91-bb55-d557779e9776",
   "metadata": {},
   "outputs": [
    {
     "data": {
      "text/plain": [
       "0       True\n",
       "1       True\n",
       "2       True\n",
       "3       True\n",
       "4       True\n",
       "       ...  \n",
       "339    False\n",
       "340    False\n",
       "341    False\n",
       "342    False\n",
       "343    False\n",
       "Name: species, Length: 344, dtype: bool"
      ]
     },
     "execution_count": 17,
     "metadata": {},
     "output_type": "execute_result"
    }
   ],
   "source": [
    "penge['species'] == \"Adelie\""
   ]
  },
  {
   "cell_type": "code",
   "execution_count": 18,
   "id": "d68f6a16-f20d-4880-838c-ace4d296fd43",
   "metadata": {},
   "outputs": [
    {
     "data": {
      "text/html": [
       "<div>\n",
       "<style scoped>\n",
       "    .dataframe tbody tr th:only-of-type {\n",
       "        vertical-align: middle;\n",
       "    }\n",
       "\n",
       "    .dataframe tbody tr th {\n",
       "        vertical-align: top;\n",
       "    }\n",
       "\n",
       "    .dataframe thead th {\n",
       "        text-align: right;\n",
       "    }\n",
       "</style>\n",
       "<table border=\"1\" class=\"dataframe\">\n",
       "  <thead>\n",
       "    <tr style=\"text-align: right;\">\n",
       "      <th></th>\n",
       "      <th>rowid</th>\n",
       "      <th>species</th>\n",
       "      <th>island</th>\n",
       "      <th>bill_length_mm</th>\n",
       "      <th>bill_depth_mm</th>\n",
       "      <th>flipper_length_mm</th>\n",
       "      <th>body_mass_g</th>\n",
       "      <th>sex</th>\n",
       "      <th>year</th>\n",
       "    </tr>\n",
       "  </thead>\n",
       "  <tbody>\n",
       "    <tr>\n",
       "      <th>0</th>\n",
       "      <td>1</td>\n",
       "      <td>Adelie</td>\n",
       "      <td>Torgersen</td>\n",
       "      <td>39.10000</td>\n",
       "      <td>18.70000</td>\n",
       "      <td>181.000000</td>\n",
       "      <td>3750.000000</td>\n",
       "      <td>male</td>\n",
       "      <td>2007</td>\n",
       "    </tr>\n",
       "    <tr>\n",
       "      <th>1</th>\n",
       "      <td>2</td>\n",
       "      <td>Adelie</td>\n",
       "      <td>Torgersen</td>\n",
       "      <td>39.50000</td>\n",
       "      <td>17.40000</td>\n",
       "      <td>186.000000</td>\n",
       "      <td>3800.000000</td>\n",
       "      <td>female</td>\n",
       "      <td>2007</td>\n",
       "    </tr>\n",
       "    <tr>\n",
       "      <th>2</th>\n",
       "      <td>3</td>\n",
       "      <td>Adelie</td>\n",
       "      <td>Torgersen</td>\n",
       "      <td>40.30000</td>\n",
       "      <td>18.00000</td>\n",
       "      <td>195.000000</td>\n",
       "      <td>3250.000000</td>\n",
       "      <td>female</td>\n",
       "      <td>2007</td>\n",
       "    </tr>\n",
       "    <tr>\n",
       "      <th>3</th>\n",
       "      <td>4</td>\n",
       "      <td>Adelie</td>\n",
       "      <td>Torgersen</td>\n",
       "      <td>43.92193</td>\n",
       "      <td>17.15117</td>\n",
       "      <td>200.915205</td>\n",
       "      <td>4201.754386</td>\n",
       "      <td>male</td>\n",
       "      <td>2007</td>\n",
       "    </tr>\n",
       "    <tr>\n",
       "      <th>4</th>\n",
       "      <td>5</td>\n",
       "      <td>Adelie</td>\n",
       "      <td>Torgersen</td>\n",
       "      <td>36.70000</td>\n",
       "      <td>19.30000</td>\n",
       "      <td>193.000000</td>\n",
       "      <td>3450.000000</td>\n",
       "      <td>female</td>\n",
       "      <td>2007</td>\n",
       "    </tr>\n",
       "    <tr>\n",
       "      <th>...</th>\n",
       "      <td>...</td>\n",
       "      <td>...</td>\n",
       "      <td>...</td>\n",
       "      <td>...</td>\n",
       "      <td>...</td>\n",
       "      <td>...</td>\n",
       "      <td>...</td>\n",
       "      <td>...</td>\n",
       "      <td>...</td>\n",
       "    </tr>\n",
       "    <tr>\n",
       "      <th>147</th>\n",
       "      <td>148</td>\n",
       "      <td>Adelie</td>\n",
       "      <td>Dream</td>\n",
       "      <td>36.60000</td>\n",
       "      <td>18.40000</td>\n",
       "      <td>184.000000</td>\n",
       "      <td>3475.000000</td>\n",
       "      <td>female</td>\n",
       "      <td>2009</td>\n",
       "    </tr>\n",
       "    <tr>\n",
       "      <th>148</th>\n",
       "      <td>149</td>\n",
       "      <td>Adelie</td>\n",
       "      <td>Dream</td>\n",
       "      <td>36.00000</td>\n",
       "      <td>17.80000</td>\n",
       "      <td>195.000000</td>\n",
       "      <td>3450.000000</td>\n",
       "      <td>female</td>\n",
       "      <td>2009</td>\n",
       "    </tr>\n",
       "    <tr>\n",
       "      <th>149</th>\n",
       "      <td>150</td>\n",
       "      <td>Adelie</td>\n",
       "      <td>Dream</td>\n",
       "      <td>37.80000</td>\n",
       "      <td>18.10000</td>\n",
       "      <td>193.000000</td>\n",
       "      <td>3750.000000</td>\n",
       "      <td>male</td>\n",
       "      <td>2009</td>\n",
       "    </tr>\n",
       "    <tr>\n",
       "      <th>150</th>\n",
       "      <td>151</td>\n",
       "      <td>Adelie</td>\n",
       "      <td>Dream</td>\n",
       "      <td>36.00000</td>\n",
       "      <td>17.10000</td>\n",
       "      <td>187.000000</td>\n",
       "      <td>3700.000000</td>\n",
       "      <td>female</td>\n",
       "      <td>2009</td>\n",
       "    </tr>\n",
       "    <tr>\n",
       "      <th>151</th>\n",
       "      <td>152</td>\n",
       "      <td>Adelie</td>\n",
       "      <td>Dream</td>\n",
       "      <td>41.50000</td>\n",
       "      <td>18.50000</td>\n",
       "      <td>201.000000</td>\n",
       "      <td>4000.000000</td>\n",
       "      <td>male</td>\n",
       "      <td>2009</td>\n",
       "    </tr>\n",
       "  </tbody>\n",
       "</table>\n",
       "<p>152 rows × 9 columns</p>\n",
       "</div>"
      ],
      "text/plain": [
       "    rowid species     island  bill_length_mm  bill_depth_mm  \\\n",
       "0       1  Adelie  Torgersen        39.10000       18.70000   \n",
       "1       2  Adelie  Torgersen        39.50000       17.40000   \n",
       "2       3  Adelie  Torgersen        40.30000       18.00000   \n",
       "3       4  Adelie  Torgersen        43.92193       17.15117   \n",
       "4       5  Adelie  Torgersen        36.70000       19.30000   \n",
       "..    ...     ...        ...             ...            ...   \n",
       "147   148  Adelie      Dream        36.60000       18.40000   \n",
       "148   149  Adelie      Dream        36.00000       17.80000   \n",
       "149   150  Adelie      Dream        37.80000       18.10000   \n",
       "150   151  Adelie      Dream        36.00000       17.10000   \n",
       "151   152  Adelie      Dream        41.50000       18.50000   \n",
       "\n",
       "     flipper_length_mm  body_mass_g     sex  year  \n",
       "0           181.000000  3750.000000    male  2007  \n",
       "1           186.000000  3800.000000  female  2007  \n",
       "2           195.000000  3250.000000  female  2007  \n",
       "3           200.915205  4201.754386    male  2007  \n",
       "4           193.000000  3450.000000  female  2007  \n",
       "..                 ...          ...     ...   ...  \n",
       "147         184.000000  3475.000000  female  2009  \n",
       "148         195.000000  3450.000000  female  2009  \n",
       "149         193.000000  3750.000000    male  2009  \n",
       "150         187.000000  3700.000000  female  2009  \n",
       "151         201.000000  4000.000000    male  2009  \n",
       "\n",
       "[152 rows x 9 columns]"
      ]
     },
     "execution_count": 18,
     "metadata": {},
     "output_type": "execute_result"
    }
   ],
   "source": [
    "penge[penge['species'] == \"Adelie\"]"
   ]
  },
  {
   "cell_type": "code",
   "execution_count": 19,
   "id": "cf69cc18-a8bd-4421-a335-8f6e06cc7577",
   "metadata": {},
   "outputs": [
    {
     "data": {
      "text/plain": [
       "0      False\n",
       "1      False\n",
       "2      False\n",
       "3      False\n",
       "4      False\n",
       "       ...  \n",
       "339    False\n",
       "340    False\n",
       "341    False\n",
       "342    False\n",
       "343    False\n",
       "Name: island, Length: 344, dtype: bool"
      ]
     },
     "execution_count": 19,
     "metadata": {},
     "output_type": "execute_result"
    }
   ],
   "source": [
    "penge['island'] == 'Biscoe'"
   ]
  },
  {
   "cell_type": "code",
   "execution_count": 20,
   "id": "1161d384-1727-49ea-bc13-498883b18a9b",
   "metadata": {},
   "outputs": [
    {
     "data": {
      "text/html": [
       "<div>\n",
       "<style scoped>\n",
       "    .dataframe tbody tr th:only-of-type {\n",
       "        vertical-align: middle;\n",
       "    }\n",
       "\n",
       "    .dataframe tbody tr th {\n",
       "        vertical-align: top;\n",
       "    }\n",
       "\n",
       "    .dataframe thead th {\n",
       "        text-align: right;\n",
       "    }\n",
       "</style>\n",
       "<table border=\"1\" class=\"dataframe\">\n",
       "  <thead>\n",
       "    <tr style=\"text-align: right;\">\n",
       "      <th></th>\n",
       "      <th>rowid</th>\n",
       "      <th>species</th>\n",
       "      <th>island</th>\n",
       "      <th>bill_length_mm</th>\n",
       "      <th>bill_depth_mm</th>\n",
       "      <th>flipper_length_mm</th>\n",
       "      <th>body_mass_g</th>\n",
       "      <th>sex</th>\n",
       "      <th>year</th>\n",
       "    </tr>\n",
       "  </thead>\n",
       "  <tbody>\n",
       "    <tr>\n",
       "      <th>20</th>\n",
       "      <td>21</td>\n",
       "      <td>Adelie</td>\n",
       "      <td>Biscoe</td>\n",
       "      <td>37.80000</td>\n",
       "      <td>18.30000</td>\n",
       "      <td>174.000000</td>\n",
       "      <td>3400.000000</td>\n",
       "      <td>female</td>\n",
       "      <td>2007</td>\n",
       "    </tr>\n",
       "    <tr>\n",
       "      <th>21</th>\n",
       "      <td>22</td>\n",
       "      <td>Adelie</td>\n",
       "      <td>Biscoe</td>\n",
       "      <td>37.70000</td>\n",
       "      <td>18.70000</td>\n",
       "      <td>180.000000</td>\n",
       "      <td>3600.000000</td>\n",
       "      <td>male</td>\n",
       "      <td>2007</td>\n",
       "    </tr>\n",
       "    <tr>\n",
       "      <th>22</th>\n",
       "      <td>23</td>\n",
       "      <td>Adelie</td>\n",
       "      <td>Biscoe</td>\n",
       "      <td>35.90000</td>\n",
       "      <td>19.20000</td>\n",
       "      <td>189.000000</td>\n",
       "      <td>3800.000000</td>\n",
       "      <td>female</td>\n",
       "      <td>2007</td>\n",
       "    </tr>\n",
       "    <tr>\n",
       "      <th>23</th>\n",
       "      <td>24</td>\n",
       "      <td>Adelie</td>\n",
       "      <td>Biscoe</td>\n",
       "      <td>38.20000</td>\n",
       "      <td>18.10000</td>\n",
       "      <td>185.000000</td>\n",
       "      <td>3950.000000</td>\n",
       "      <td>male</td>\n",
       "      <td>2007</td>\n",
       "    </tr>\n",
       "    <tr>\n",
       "      <th>24</th>\n",
       "      <td>25</td>\n",
       "      <td>Adelie</td>\n",
       "      <td>Biscoe</td>\n",
       "      <td>38.80000</td>\n",
       "      <td>17.20000</td>\n",
       "      <td>180.000000</td>\n",
       "      <td>3800.000000</td>\n",
       "      <td>male</td>\n",
       "      <td>2007</td>\n",
       "    </tr>\n",
       "    <tr>\n",
       "      <th>...</th>\n",
       "      <td>...</td>\n",
       "      <td>...</td>\n",
       "      <td>...</td>\n",
       "      <td>...</td>\n",
       "      <td>...</td>\n",
       "      <td>...</td>\n",
       "      <td>...</td>\n",
       "      <td>...</td>\n",
       "      <td>...</td>\n",
       "    </tr>\n",
       "    <tr>\n",
       "      <th>271</th>\n",
       "      <td>272</td>\n",
       "      <td>Gentoo</td>\n",
       "      <td>Biscoe</td>\n",
       "      <td>43.92193</td>\n",
       "      <td>17.15117</td>\n",
       "      <td>200.915205</td>\n",
       "      <td>4201.754386</td>\n",
       "      <td>male</td>\n",
       "      <td>2009</td>\n",
       "    </tr>\n",
       "    <tr>\n",
       "      <th>272</th>\n",
       "      <td>273</td>\n",
       "      <td>Gentoo</td>\n",
       "      <td>Biscoe</td>\n",
       "      <td>46.80000</td>\n",
       "      <td>14.30000</td>\n",
       "      <td>215.000000</td>\n",
       "      <td>4850.000000</td>\n",
       "      <td>female</td>\n",
       "      <td>2009</td>\n",
       "    </tr>\n",
       "    <tr>\n",
       "      <th>273</th>\n",
       "      <td>274</td>\n",
       "      <td>Gentoo</td>\n",
       "      <td>Biscoe</td>\n",
       "      <td>50.40000</td>\n",
       "      <td>15.70000</td>\n",
       "      <td>222.000000</td>\n",
       "      <td>5750.000000</td>\n",
       "      <td>male</td>\n",
       "      <td>2009</td>\n",
       "    </tr>\n",
       "    <tr>\n",
       "      <th>274</th>\n",
       "      <td>275</td>\n",
       "      <td>Gentoo</td>\n",
       "      <td>Biscoe</td>\n",
       "      <td>45.20000</td>\n",
       "      <td>14.80000</td>\n",
       "      <td>212.000000</td>\n",
       "      <td>5200.000000</td>\n",
       "      <td>female</td>\n",
       "      <td>2009</td>\n",
       "    </tr>\n",
       "    <tr>\n",
       "      <th>275</th>\n",
       "      <td>276</td>\n",
       "      <td>Gentoo</td>\n",
       "      <td>Biscoe</td>\n",
       "      <td>49.90000</td>\n",
       "      <td>16.10000</td>\n",
       "      <td>213.000000</td>\n",
       "      <td>5400.000000</td>\n",
       "      <td>male</td>\n",
       "      <td>2009</td>\n",
       "    </tr>\n",
       "  </tbody>\n",
       "</table>\n",
       "<p>168 rows × 9 columns</p>\n",
       "</div>"
      ],
      "text/plain": [
       "    rowid species  island  bill_length_mm  bill_depth_mm  flipper_length_mm  \\\n",
       "20     21  Adelie  Biscoe        37.80000       18.30000         174.000000   \n",
       "21     22  Adelie  Biscoe        37.70000       18.70000         180.000000   \n",
       "22     23  Adelie  Biscoe        35.90000       19.20000         189.000000   \n",
       "23     24  Adelie  Biscoe        38.20000       18.10000         185.000000   \n",
       "24     25  Adelie  Biscoe        38.80000       17.20000         180.000000   \n",
       "..    ...     ...     ...             ...            ...                ...   \n",
       "271   272  Gentoo  Biscoe        43.92193       17.15117         200.915205   \n",
       "272   273  Gentoo  Biscoe        46.80000       14.30000         215.000000   \n",
       "273   274  Gentoo  Biscoe        50.40000       15.70000         222.000000   \n",
       "274   275  Gentoo  Biscoe        45.20000       14.80000         212.000000   \n",
       "275   276  Gentoo  Biscoe        49.90000       16.10000         213.000000   \n",
       "\n",
       "     body_mass_g     sex  year  \n",
       "20   3400.000000  female  2007  \n",
       "21   3600.000000    male  2007  \n",
       "22   3800.000000  female  2007  \n",
       "23   3950.000000    male  2007  \n",
       "24   3800.000000    male  2007  \n",
       "..           ...     ...   ...  \n",
       "271  4201.754386    male  2009  \n",
       "272  4850.000000  female  2009  \n",
       "273  5750.000000    male  2009  \n",
       "274  5200.000000  female  2009  \n",
       "275  5400.000000    male  2009  \n",
       "\n",
       "[168 rows x 9 columns]"
      ]
     },
     "execution_count": 20,
     "metadata": {},
     "output_type": "execute_result"
    }
   ],
   "source": [
    "penge[penge['island'] == 'Biscoe']"
   ]
  },
  {
   "cell_type": "markdown",
   "id": "dd3de65b-f71c-4589-96bd-ea90965b0356",
   "metadata": {},
   "source": [
    "<h1> #1 Does the penguins species 'adelie' lives exclusive lives in specific Island?</h1>"
   ]
  },
  {
   "cell_type": "code",
   "execution_count": 21,
   "id": "824b2901-8924-4163-809d-0398d5d1d80b",
   "metadata": {},
   "outputs": [
    {
     "data": {
      "text/plain": [
       "species\n",
       "Adelie       152\n",
       "Gentoo       124\n",
       "Chinstrap     68\n",
       "Name: count, dtype: int64"
      ]
     },
     "execution_count": 21,
     "metadata": {},
     "output_type": "execute_result"
    }
   ],
   "source": [
    "penge['species'].value_counts()"
   ]
  },
  {
   "cell_type": "code",
   "execution_count": 22,
   "id": "2486159e-058d-4d19-91df-03c79073041a",
   "metadata": {},
   "outputs": [
    {
     "data": {
      "text/plain": [
       "island\n",
       "Biscoe       168\n",
       "Dream        124\n",
       "Torgersen     52\n",
       "Name: count, dtype: int64"
      ]
     },
     "execution_count": 22,
     "metadata": {},
     "output_type": "execute_result"
    }
   ],
   "source": [
    "penge['island'].value_counts()"
   ]
  },
  {
   "cell_type": "code",
   "execution_count": 23,
   "id": "a3aa15ef-2d42-47ed-871f-1d27de7023b5",
   "metadata": {},
   "outputs": [
    {
     "data": {
      "text/plain": [
       "rowid                44\n",
       "species              44\n",
       "island               44\n",
       "bill_length_mm       44\n",
       "bill_depth_mm        44\n",
       "flipper_length_mm    44\n",
       "body_mass_g          44\n",
       "sex                  44\n",
       "year                 44\n",
       "dtype: int64"
      ]
     },
     "execution_count": 23,
     "metadata": {},
     "output_type": "execute_result"
    }
   ],
   "source": [
    "penge[(penge['species'] == \"Adelie\") & (penge['island'] == 'Biscoe')].count()"
   ]
  },
  {
   "cell_type": "code",
   "execution_count": 24,
   "id": "5f8806ea-36e5-45d3-86ed-e3c00a7f4d88",
   "metadata": {},
   "outputs": [
    {
     "data": {
      "text/plain": [
       "rowid                56\n",
       "species              56\n",
       "island               56\n",
       "bill_length_mm       56\n",
       "bill_depth_mm        56\n",
       "flipper_length_mm    56\n",
       "body_mass_g          56\n",
       "sex                  56\n",
       "year                 56\n",
       "dtype: int64"
      ]
     },
     "execution_count": 24,
     "metadata": {},
     "output_type": "execute_result"
    }
   ],
   "source": [
    "penge[(penge['species'] == \"Adelie\") & (penge['island'] == 'Dream')].count()"
   ]
  },
  {
   "cell_type": "code",
   "execution_count": 25,
   "id": "198c89a8-e9c4-4375-bc96-e403c01a04ce",
   "metadata": {},
   "outputs": [
    {
     "data": {
      "text/plain": [
       "rowid                52\n",
       "species              52\n",
       "island               52\n",
       "bill_length_mm       52\n",
       "bill_depth_mm        52\n",
       "flipper_length_mm    52\n",
       "body_mass_g          52\n",
       "sex                  52\n",
       "year                 52\n",
       "dtype: int64"
      ]
     },
     "execution_count": 25,
     "metadata": {},
     "output_type": "execute_result"
    }
   ],
   "source": [
    "penge[(penge['species'] == \"Adelie\") & (penge['island'] == 'Torgersen')].count()"
   ]
  },
  {
   "cell_type": "markdown",
   "id": "3a47099c-87b5-4eab-b258-9e0eff4d58a6",
   "metadata": {},
   "source": [
    "<h1>Insight for no.1</h1>\n",
    "<h2>No, adelie does not exclusively lives in an island</h2>"
   ]
  },
  {
   "cell_type": "code",
   "execution_count": 26,
   "id": "5171d673-474d-4ac9-a48b-46c311169fe4",
   "metadata": {},
   "outputs": [],
   "source": [
    "penge['wkilo'] = np.round(penge['body_mass_g'] / 1000, 1)"
   ]
  },
  {
   "cell_type": "markdown",
   "id": "a8761e4a-1d23-416e-af5e-a36e5c793692",
   "metadata": {},
   "source": [
    "<h1>#2 Gento</h1>"
   ]
  },
  {
   "cell_type": "code",
   "execution_count": 27,
   "id": "cbc44903-d304-4a64-a74e-e92747f5cbf3",
   "metadata": {},
   "outputs": [],
   "source": [
    "Gentoo_bis = penge[(penge['species'] == \"Gentoo\") & (penge['island'] == 'Biscoe')]"
   ]
  },
  {
   "cell_type": "code",
   "execution_count": 28,
   "id": "57cbbfdf-b1c4-47c7-a1a5-22bb8dcdab23",
   "metadata": {},
   "outputs": [],
   "source": [
    "Gentoo_dre = penge[(penge['species'] == \"Gentoo\") & (penge['island'] == 'Dream')]"
   ]
  },
  {
   "cell_type": "code",
   "execution_count": 29,
   "id": "00d61fcf-c3d3-41d7-b532-b5d6e795d7f0",
   "metadata": {},
   "outputs": [],
   "source": [
    "Gentoo_torg = penge[(penge['species'] == \"Gentoo\") & (penge['island'] == 'Torgersen')]"
   ]
  },
  {
   "cell_type": "code",
   "execution_count": 30,
   "id": "cdadf675-b641-433a-a5db-c7d2db5b8447",
   "metadata": {},
   "outputs": [
    {
     "data": {
      "text/plain": [
       "np.float64(5.1)"
      ]
     },
     "execution_count": 30,
     "metadata": {},
     "output_type": "execute_result"
    }
   ],
   "source": [
    "np.round(Gentoo_bis['wkilo'].mean(), 1)"
   ]
  },
  {
   "cell_type": "code",
   "execution_count": 31,
   "id": "c0ac1b44-f601-449d-a3c2-f14c5282a64f",
   "metadata": {},
   "outputs": [
    {
     "data": {
      "text/plain": [
       "np.float64(nan)"
      ]
     },
     "execution_count": 31,
     "metadata": {},
     "output_type": "execute_result"
    }
   ],
   "source": [
    "np.round(Gentoo_dre['wkilo'].mean(), 1)"
   ]
  },
  {
   "cell_type": "code",
   "execution_count": 32,
   "id": "0574efc8-59ca-4123-83fc-31819544afc6",
   "metadata": {},
   "outputs": [
    {
     "data": {
      "text/plain": [
       "np.float64(nan)"
      ]
     },
     "execution_count": 32,
     "metadata": {},
     "output_type": "execute_result"
    }
   ],
   "source": [
    "np.round(Gentoo_torg['wkilo'].mean(), 1)"
   ]
  },
  {
   "cell_type": "markdown",
   "id": "4b83add6-6e54-4ce8-95cc-66838100e7fc",
   "metadata": {},
   "source": [
    "<h1>Insight for no.2</h1>\n",
    "<h2>Yes, Gento does live exclusively lives in an island of Biscoe</h2>"
   ]
  },
  {
   "cell_type": "markdown",
   "id": "7ddf43be-524c-4fa7-b188-139499f803fd",
   "metadata": {},
   "source": [
    "<h1>#3 Chinstrap</h1>"
   ]
  },
  {
   "cell_type": "code",
   "execution_count": 33,
   "id": "a5a1b465-81d6-42bc-a5a8-250521ed289d",
   "metadata": {},
   "outputs": [],
   "source": [
    "Chinstrap_bis = penge[(penge['species'] == \"Chinstrap\") & (penge['island'] == 'Biscoe')]"
   ]
  },
  {
   "cell_type": "code",
   "execution_count": 34,
   "id": "096059ae-328e-4610-a9e2-b7b4aff94414",
   "metadata": {},
   "outputs": [],
   "source": [
    "Chinstrap_dre = penge[(penge['species'] == \"Chinstrap\") & (penge['island'] == 'Dream')]"
   ]
  },
  {
   "cell_type": "code",
   "execution_count": 35,
   "id": "48b0c3d5-17bb-453f-b493-ce6efb7f66d6",
   "metadata": {},
   "outputs": [],
   "source": [
    "Chinstrap_torg = penge[(penge['species'] == \"Chinstrap\") & (penge['island'] == 'Torgersen')]"
   ]
  },
  {
   "cell_type": "code",
   "execution_count": 36,
   "id": "6fa843b3-cf79-4eaf-951d-c0982e6c8de5",
   "metadata": {},
   "outputs": [
    {
     "data": {
      "text/plain": [
       "np.float64(nan)"
      ]
     },
     "execution_count": 36,
     "metadata": {},
     "output_type": "execute_result"
    }
   ],
   "source": [
    "np.round(Chinstrap_bis['wkilo'].mean(), 1)"
   ]
  },
  {
   "cell_type": "code",
   "execution_count": 37,
   "id": "39aa7c99-ecd9-4d7d-b689-543b2ec3e2c1",
   "metadata": {},
   "outputs": [
    {
     "data": {
      "text/plain": [
       "np.float64(3.7)"
      ]
     },
     "execution_count": 37,
     "metadata": {},
     "output_type": "execute_result"
    }
   ],
   "source": [
    "np.round(Chinstrap_dre['wkilo'].mean(), 1)"
   ]
  },
  {
   "cell_type": "code",
   "execution_count": 38,
   "id": "f1706fc2-ba06-4d2e-9abb-f40480cf4ade",
   "metadata": {},
   "outputs": [
    {
     "data": {
      "text/plain": [
       "np.float64(nan)"
      ]
     },
     "execution_count": 38,
     "metadata": {},
     "output_type": "execute_result"
    }
   ],
   "source": [
    "np.round(Chinstrap_torg['wkilo'].mean(), 1)"
   ]
  },
  {
   "cell_type": "markdown",
   "id": "8e75e267-fc31-4b69-9419-ec797c5c7bff",
   "metadata": {},
   "source": [
    "<h1>Insight for no.3</h1>\n",
    "<h2>Yes, Chinstrap does live exclusively lives in an island of Dream</h2>"
   ]
  },
  {
   "cell_type": "markdown",
   "id": "bc6b13aa-60ae-4663-bd6b-1138d22bfcf9",
   "metadata": {},
   "source": [
    "<h1>#4 Does the Island affects the weight or body mass of species?</h1>"
   ]
  },
  {
   "cell_type": "code",
   "execution_count": 39,
   "id": "76c81725-bbc0-4ebd-8740-e576e49da477",
   "metadata": {},
   "outputs": [],
   "source": [
    "Adelie_bis = penge[(penge['species'] == \"Adelie\") & (penge['island'] == 'Biscoe')]"
   ]
  },
  {
   "cell_type": "code",
   "execution_count": 40,
   "id": "44f65985-34aa-4d09-9a15-eaff7e5edb37",
   "metadata": {},
   "outputs": [],
   "source": [
    "Adelie_dre = penge[(penge['species'] == \"Adelie\") & (penge['island'] == 'Dream')]"
   ]
  },
  {
   "cell_type": "code",
   "execution_count": 41,
   "id": "041c493a-b9da-4ac0-bc89-07c9d1b41dd8",
   "metadata": {},
   "outputs": [],
   "source": [
    "Adelie_torg = penge[(penge['species'] == \"Adelie\") & (penge['island'] == 'Torgersen')]"
   ]
  },
  {
   "cell_type": "code",
   "execution_count": 42,
   "id": "27e57e67-cb54-4bfe-90f1-256c9bb8ab44",
   "metadata": {},
   "outputs": [
    {
     "data": {
      "text/html": [
       "<div>\n",
       "<style scoped>\n",
       "    .dataframe tbody tr th:only-of-type {\n",
       "        vertical-align: middle;\n",
       "    }\n",
       "\n",
       "    .dataframe tbody tr th {\n",
       "        vertical-align: top;\n",
       "    }\n",
       "\n",
       "    .dataframe thead th {\n",
       "        text-align: right;\n",
       "    }\n",
       "</style>\n",
       "<table border=\"1\" class=\"dataframe\">\n",
       "  <thead>\n",
       "    <tr style=\"text-align: right;\">\n",
       "      <th></th>\n",
       "      <th>rowid</th>\n",
       "      <th>species</th>\n",
       "      <th>island</th>\n",
       "      <th>bill_length_mm</th>\n",
       "      <th>bill_depth_mm</th>\n",
       "      <th>flipper_length_mm</th>\n",
       "      <th>body_mass_g</th>\n",
       "      <th>sex</th>\n",
       "      <th>year</th>\n",
       "      <th>wkilo</th>\n",
       "    </tr>\n",
       "  </thead>\n",
       "  <tbody>\n",
       "    <tr>\n",
       "      <th>20</th>\n",
       "      <td>21</td>\n",
       "      <td>Adelie</td>\n",
       "      <td>Biscoe</td>\n",
       "      <td>37.8</td>\n",
       "      <td>18.3</td>\n",
       "      <td>174.0</td>\n",
       "      <td>3400.0</td>\n",
       "      <td>female</td>\n",
       "      <td>2007</td>\n",
       "      <td>3.4</td>\n",
       "    </tr>\n",
       "    <tr>\n",
       "      <th>21</th>\n",
       "      <td>22</td>\n",
       "      <td>Adelie</td>\n",
       "      <td>Biscoe</td>\n",
       "      <td>37.7</td>\n",
       "      <td>18.7</td>\n",
       "      <td>180.0</td>\n",
       "      <td>3600.0</td>\n",
       "      <td>male</td>\n",
       "      <td>2007</td>\n",
       "      <td>3.6</td>\n",
       "    </tr>\n",
       "    <tr>\n",
       "      <th>22</th>\n",
       "      <td>23</td>\n",
       "      <td>Adelie</td>\n",
       "      <td>Biscoe</td>\n",
       "      <td>35.9</td>\n",
       "      <td>19.2</td>\n",
       "      <td>189.0</td>\n",
       "      <td>3800.0</td>\n",
       "      <td>female</td>\n",
       "      <td>2007</td>\n",
       "      <td>3.8</td>\n",
       "    </tr>\n",
       "  </tbody>\n",
       "</table>\n",
       "</div>"
      ],
      "text/plain": [
       "   rowid species  island  bill_length_mm  bill_depth_mm  flipper_length_mm  \\\n",
       "20    21  Adelie  Biscoe            37.8           18.3              174.0   \n",
       "21    22  Adelie  Biscoe            37.7           18.7              180.0   \n",
       "22    23  Adelie  Biscoe            35.9           19.2              189.0   \n",
       "\n",
       "    body_mass_g     sex  year  wkilo  \n",
       "20       3400.0  female  2007    3.4  \n",
       "21       3600.0    male  2007    3.6  \n",
       "22       3800.0  female  2007    3.8  "
      ]
     },
     "execution_count": 42,
     "metadata": {},
     "output_type": "execute_result"
    }
   ],
   "source": [
    "Adelie_bis.head(3)"
   ]
  },
  {
   "cell_type": "code",
   "execution_count": 43,
   "id": "40a7f68f-563c-4500-951c-d49f8e532fd9",
   "metadata": {},
   "outputs": [
    {
     "data": {
      "text/plain": [
       "np.float64(3.7)"
      ]
     },
     "execution_count": 43,
     "metadata": {},
     "output_type": "execute_result"
    }
   ],
   "source": [
    "np.round(Adelie_bis['wkilo'].mean(), 1)"
   ]
  },
  {
   "cell_type": "code",
   "execution_count": 44,
   "id": "9d0804df-fcf8-4a08-aae7-2b59a712d07e",
   "metadata": {},
   "outputs": [
    {
     "data": {
      "text/plain": [
       "np.float64(3.7)"
      ]
     },
     "execution_count": 44,
     "metadata": {},
     "output_type": "execute_result"
    }
   ],
   "source": [
    "np.round(Adelie_dre['wkilo'].mean(), 1)"
   ]
  },
  {
   "cell_type": "code",
   "execution_count": 45,
   "id": "29633967-9eee-4eee-8291-ca90854b7a8e",
   "metadata": {},
   "outputs": [
    {
     "data": {
      "text/plain": [
       "np.float64(3.7)"
      ]
     },
     "execution_count": 45,
     "metadata": {},
     "output_type": "execute_result"
    }
   ],
   "source": [
    "np.round(Adelie_torg['wkilo'].mean(), 1)"
   ]
  },
  {
   "cell_type": "markdown",
   "id": "31f786c5-e511-4121-ac2d-b1c636e523a2",
   "metadata": {},
   "source": [
    "<h1>Insight no 4.</h1>\n",
    "<h2>No, Island does not affect the weight or body mass of species Adelie</h2>"
   ]
  },
  {
   "cell_type": "markdown",
   "id": "60abfac8-1f53-46c0-9cd0-340d15703e80",
   "metadata": {},
   "source": [
    "<h1>#5</h1>\n",
    "<h2>Gentoo</h2>"
   ]
  },
  {
   "cell_type": "code",
   "execution_count": 46,
   "id": "77a2f74e-6eb4-4d98-ac5c-367ac033d07b",
   "metadata": {},
   "outputs": [],
   "source": [
    "Gentoo_bis = penge[(penge['species'] == \"Gentoo\") & (penge['island'] == 'Biscoe')]"
   ]
  },
  {
   "cell_type": "code",
   "execution_count": 47,
   "id": "765d7fe6-0857-46a5-882b-6a497f4a5199",
   "metadata": {},
   "outputs": [],
   "source": [
    "Gentoo_dre = penge[(penge['species'] == \"Gentoo\") & (penge['island'] == 'dream')]"
   ]
  },
  {
   "cell_type": "code",
   "execution_count": 48,
   "id": "7a1ce900-b731-4dbd-9a4b-81bb65901316",
   "metadata": {},
   "outputs": [],
   "source": [
    "Gentoo_torg = penge[(penge['species'] == \"Gentoo\") & (penge['island'] == 'Torgersen')]"
   ]
  },
  {
   "cell_type": "code",
   "execution_count": 49,
   "id": "c90f531e-1786-4f9b-bfeb-dfb32f8c169b",
   "metadata": {},
   "outputs": [
    {
     "data": {
      "text/plain": [
       "np.float64(5.1)"
      ]
     },
     "execution_count": 49,
     "metadata": {},
     "output_type": "execute_result"
    }
   ],
   "source": [
    "np.round(Gentoo_bis['wkilo'].mean(), 1)"
   ]
  },
  {
   "cell_type": "code",
   "execution_count": 50,
   "id": "b83682aa-6cd6-4b40-b384-effd1ffe3c84",
   "metadata": {},
   "outputs": [
    {
     "data": {
      "text/plain": [
       "np.float64(nan)"
      ]
     },
     "execution_count": 50,
     "metadata": {},
     "output_type": "execute_result"
    }
   ],
   "source": [
    "np.round(Gentoo_dre['wkilo'].mean(), 1)"
   ]
  },
  {
   "cell_type": "code",
   "execution_count": 51,
   "id": "68cbdde6-e941-451e-acf0-3825b2e883f0",
   "metadata": {},
   "outputs": [
    {
     "data": {
      "text/plain": [
       "np.float64(nan)"
      ]
     },
     "execution_count": 51,
     "metadata": {},
     "output_type": "execute_result"
    }
   ],
   "source": [
    "np.round(Gentoo_torg['wkilo'].mean(), 1)"
   ]
  },
  {
   "cell_type": "markdown",
   "id": "45e08a41-ed1d-4b01-98b0-baacf8964ab4",
   "metadata": {},
   "source": [
    "<h1>Insight no 5.</h1>\n",
    "<h2>No, Island does not affect the weight or body mass of species Gentoo</h2>"
   ]
  },
  {
   "cell_type": "markdown",
   "id": "44c064fb-f701-4cee-92d1-ba351eaccb1d",
   "metadata": {},
   "source": [
    "<h1>#6</h1>\n",
    "<h2>Gentoo</h2>"
   ]
  },
  {
   "cell_type": "code",
   "execution_count": 52,
   "id": "28ad1c17-2a5d-4475-a9f9-6ff18a07e89e",
   "metadata": {},
   "outputs": [],
   "source": [
    "Chinstrap_bis = penge[(penge['species'] == \"Chinstrap\") & (penge['island'] == 'Biscoe')]"
   ]
  },
  {
   "cell_type": "code",
   "execution_count": 53,
   "id": "006389ae-690f-47b1-9004-6841dddf6242",
   "metadata": {},
   "outputs": [],
   "source": [
    "Chinstrap_dre = penge[(penge['species'] == \"Chinstrap\") & (penge['island'] == 'Dream')]"
   ]
  },
  {
   "cell_type": "code",
   "execution_count": 54,
   "id": "555aabef-29d3-4a6b-9cda-f5959cb3a2d0",
   "metadata": {},
   "outputs": [],
   "source": [
    "Chinstrap_torg = penge[(penge['species'] == \"Chinstrap\") & (penge['island'] == 'Torgersen')]"
   ]
  },
  {
   "cell_type": "code",
   "execution_count": 55,
   "id": "b13fff25-bbd7-4d87-8617-5a728386e16e",
   "metadata": {},
   "outputs": [
    {
     "data": {
      "text/plain": [
       "np.float64(nan)"
      ]
     },
     "execution_count": 55,
     "metadata": {},
     "output_type": "execute_result"
    }
   ],
   "source": [
    "np.round(Chinstrap_bis['wkilo'].mean(), 1)"
   ]
  },
  {
   "cell_type": "code",
   "execution_count": 56,
   "id": "ff524235-cec3-40d9-a952-829c245b2c45",
   "metadata": {},
   "outputs": [
    {
     "data": {
      "text/plain": [
       "np.float64(3.7)"
      ]
     },
     "execution_count": 56,
     "metadata": {},
     "output_type": "execute_result"
    }
   ],
   "source": [
    "np.round(Chinstrap_dre['wkilo'].mean(), 1)"
   ]
  },
  {
   "cell_type": "code",
   "execution_count": 57,
   "id": "0b159b23-a797-4bcc-b207-bce2140d5724",
   "metadata": {},
   "outputs": [
    {
     "data": {
      "text/plain": [
       "np.float64(nan)"
      ]
     },
     "execution_count": 57,
     "metadata": {},
     "output_type": "execute_result"
    }
   ],
   "source": [
    "np.round(Chinstrap_torg['wkilo'].mean(), 1)"
   ]
  },
  {
   "cell_type": "markdown",
   "id": "ea9bde83-615a-44bf-9fad-a38d5232c2c2",
   "metadata": {},
   "source": [
    "<h1>Insight no 6.</h1>\n",
    "<h2>No, Island does not affect the weight or body mass of species Chinstrap</h2>"
   ]
  },
  {
   "cell_type": "markdown",
   "id": "bbaa7ea0-6bfd-4259-86f7-f49d8f7763b5",
   "metadata": {},
   "source": [
    "<h1>#7</h1>\n",
    "<h2>Heaviest Species</h2>"
   ]
  },
  {
   "cell_type": "code",
   "execution_count": 58,
   "id": "c1d19c17-a9fe-4bf1-a56d-80912bdf8c73",
   "metadata": {},
   "outputs": [],
   "source": [
    "average_adelie = np.round(pd.concat([Adelie_bis['wkilo'], Adelie_dre['wkilo'], Adelie_torg['wkilo']]).mean(), 1)"
   ]
  },
  {
   "cell_type": "code",
   "execution_count": 59,
   "id": "f5c5c9e2-2126-49db-877d-48dc68ce9d3b",
   "metadata": {},
   "outputs": [
    {
     "data": {
      "text/plain": [
       "np.float64(3.7)"
      ]
     },
     "execution_count": 59,
     "metadata": {},
     "output_type": "execute_result"
    }
   ],
   "source": [
    "average_adelie"
   ]
  },
  {
   "cell_type": "code",
   "execution_count": 60,
   "id": "7af0c0c9-2092-4d52-a4cd-7c07a1ee2d2c",
   "metadata": {},
   "outputs": [
    {
     "data": {
      "text/plain": [
       "np.float64(3.7)"
      ]
     },
     "execution_count": 60,
     "metadata": {},
     "output_type": "execute_result"
    }
   ],
   "source": [
    "np.round(Adelie_bis['wkilo'].mean(), 1)"
   ]
  },
  {
   "cell_type": "code",
   "execution_count": 61,
   "id": "bdb54190-c59d-4d26-b3dc-7bc382d59360",
   "metadata": {},
   "outputs": [
    {
     "data": {
      "text/plain": [
       "np.float64(3.7)"
      ]
     },
     "execution_count": 61,
     "metadata": {},
     "output_type": "execute_result"
    }
   ],
   "source": [
    "np.round(Adelie_dre['wkilo'].mean(), 1)"
   ]
  },
  {
   "cell_type": "code",
   "execution_count": 62,
   "id": "8a18e577-db03-4271-8115-b72210d00386",
   "metadata": {},
   "outputs": [
    {
     "data": {
      "text/plain": [
       "np.float64(3.7)"
      ]
     },
     "execution_count": 62,
     "metadata": {},
     "output_type": "execute_result"
    }
   ],
   "source": [
    "np.round(Adelie_torg['wkilo'].mean(), 1)"
   ]
  },
  {
   "cell_type": "code",
   "execution_count": null,
   "id": "1872c3be-ca26-4e07-b8d2-5cc9ab1dbde3",
   "metadata": {},
   "outputs": [],
   "source": []
  },
  {
   "cell_type": "code",
   "execution_count": 63,
   "id": "6c050b40-64b0-4e1e-841e-5b3174f3d9c5",
   "metadata": {},
   "outputs": [
    {
     "data": {
      "text/plain": [
       "np.float64(5.1)"
      ]
     },
     "execution_count": 63,
     "metadata": {},
     "output_type": "execute_result"
    }
   ],
   "source": [
    "np.round(Gentoo_bis['wkilo'].mean(), 1)"
   ]
  },
  {
   "cell_type": "code",
   "execution_count": 64,
   "id": "d053a29f-72a3-4e2f-8fef-8f9880080149",
   "metadata": {},
   "outputs": [
    {
     "data": {
      "text/plain": [
       "np.float64(nan)"
      ]
     },
     "execution_count": 64,
     "metadata": {},
     "output_type": "execute_result"
    }
   ],
   "source": [
    "np.round(Gentoo_dre['wkilo'].mean(), 1)"
   ]
  },
  {
   "cell_type": "code",
   "execution_count": 65,
   "id": "70efb224-2c95-4bf9-b297-6650f6e1c433",
   "metadata": {},
   "outputs": [
    {
     "data": {
      "text/plain": [
       "np.float64(nan)"
      ]
     },
     "execution_count": 65,
     "metadata": {},
     "output_type": "execute_result"
    }
   ],
   "source": [
    "np.round(Gentoo_torg['wkilo'].mean(), 1)"
   ]
  },
  {
   "cell_type": "code",
   "execution_count": null,
   "id": "5e7d3cd5-4b22-4d97-bf47-a216b703f48f",
   "metadata": {},
   "outputs": [],
   "source": []
  },
  {
   "cell_type": "code",
   "execution_count": 66,
   "id": "cdbc4705-57dc-43ff-b821-402c6adda252",
   "metadata": {},
   "outputs": [
    {
     "data": {
      "text/plain": [
       "np.float64(nan)"
      ]
     },
     "execution_count": 66,
     "metadata": {},
     "output_type": "execute_result"
    }
   ],
   "source": [
    "np.round(Chinstrap_bis['wkilo'].mean(), 1)"
   ]
  },
  {
   "cell_type": "code",
   "execution_count": 67,
   "id": "a9b037f3-e3e4-4e4a-8c2f-7e803a74d73c",
   "metadata": {},
   "outputs": [
    {
     "data": {
      "text/plain": [
       "np.float64(3.7)"
      ]
     },
     "execution_count": 67,
     "metadata": {},
     "output_type": "execute_result"
    }
   ],
   "source": [
    "np.round(Chinstrap_dre['wkilo'].mean(), 1)"
   ]
  },
  {
   "cell_type": "code",
   "execution_count": 68,
   "id": "d2199465-6dc5-4997-8672-2c7d7577bdb4",
   "metadata": {},
   "outputs": [
    {
     "data": {
      "text/plain": [
       "np.float64(nan)"
      ]
     },
     "execution_count": 68,
     "metadata": {},
     "output_type": "execute_result"
    }
   ],
   "source": [
    "np.round(Chinstrap_torg['wkilo'].mean(), 1)"
   ]
  },
  {
   "cell_type": "markdown",
   "id": "46c82fdf-6e93-4834-b1bc-7e5286d88a1c",
   "metadata": {},
   "source": [
    "<h1>Insight no 7.</h1>\n",
    "<h2>The Heviest Species is ???</h2>"
   ]
  },
  {
   "cell_type": "markdown",
   "id": "a36c57bd-db84-4022-9384-362c871b7411",
   "metadata": {},
   "source": [
    "<h2>The heaviest species is Gentoo with the weight of 5.1 kilogram</h2>"
   ]
  },
  {
   "cell_type": "code",
   "execution_count": null,
   "id": "c3288990-50fa-4e79-943e-44e5d77d4344",
   "metadata": {},
   "outputs": [],
   "source": []
  },
  {
   "cell_type": "markdown",
   "id": "99c667c9-25b6-4d95-b073-51e5f706028b",
   "metadata": {},
   "source": [
    "<h1>Aggregate</h1>"
   ]
  },
  {
   "cell_type": "code",
   "execution_count": 69,
   "id": "98a4b3f2-5925-4714-b603-8830c2e320b7",
   "metadata": {},
   "outputs": [
    {
     "name": "stderr",
     "output_type": "stream",
     "text": [
      "C:\\Users\\LAB4-StudentPC01\\AppData\\Local\\Temp\\ipykernel_476\\757929153.py:1: FutureWarning: The default of observed=False is deprecated and will be changed to True in a future version of pandas. Pass observed=False to retain current behavior or observed=True to adopt the future default and silence this warning.\n",
      "  penge_agg = penge.groupby([\"species\",\"island\",\"sex\"]).count()\n"
     ]
    }
   ],
   "source": [
    "penge_agg = penge.groupby([\"species\",\"island\",\"sex\"]).count()"
   ]
  },
  {
   "cell_type": "code",
   "execution_count": 70,
   "id": "a42f7d59-8284-4e2c-9e75-7b3707ed8b7b",
   "metadata": {},
   "outputs": [
    {
     "data": {
      "text/html": [
       "<div>\n",
       "<style scoped>\n",
       "    .dataframe tbody tr th:only-of-type {\n",
       "        vertical-align: middle;\n",
       "    }\n",
       "\n",
       "    .dataframe tbody tr th {\n",
       "        vertical-align: top;\n",
       "    }\n",
       "\n",
       "    .dataframe thead th {\n",
       "        text-align: right;\n",
       "    }\n",
       "</style>\n",
       "<table border=\"1\" class=\"dataframe\">\n",
       "  <thead>\n",
       "    <tr style=\"text-align: right;\">\n",
       "      <th></th>\n",
       "      <th></th>\n",
       "      <th></th>\n",
       "      <th>rowid</th>\n",
       "      <th>bill_length_mm</th>\n",
       "      <th>bill_depth_mm</th>\n",
       "      <th>flipper_length_mm</th>\n",
       "      <th>body_mass_g</th>\n",
       "      <th>year</th>\n",
       "      <th>wkilo</th>\n",
       "    </tr>\n",
       "    <tr>\n",
       "      <th>species</th>\n",
       "      <th>island</th>\n",
       "      <th>sex</th>\n",
       "      <th></th>\n",
       "      <th></th>\n",
       "      <th></th>\n",
       "      <th></th>\n",
       "      <th></th>\n",
       "      <th></th>\n",
       "      <th></th>\n",
       "    </tr>\n",
       "  </thead>\n",
       "  <tbody>\n",
       "    <tr>\n",
       "      <th rowspan=\"6\" valign=\"top\">Adelie</th>\n",
       "      <th rowspan=\"2\" valign=\"top\">Biscoe</th>\n",
       "      <th>female</th>\n",
       "      <td>22</td>\n",
       "      <td>22</td>\n",
       "      <td>22</td>\n",
       "      <td>22</td>\n",
       "      <td>22</td>\n",
       "      <td>22</td>\n",
       "      <td>22</td>\n",
       "    </tr>\n",
       "    <tr>\n",
       "      <th>male</th>\n",
       "      <td>22</td>\n",
       "      <td>22</td>\n",
       "      <td>22</td>\n",
       "      <td>22</td>\n",
       "      <td>22</td>\n",
       "      <td>22</td>\n",
       "      <td>22</td>\n",
       "    </tr>\n",
       "    <tr>\n",
       "      <th rowspan=\"2\" valign=\"top\">Dream</th>\n",
       "      <th>female</th>\n",
       "      <td>27</td>\n",
       "      <td>27</td>\n",
       "      <td>27</td>\n",
       "      <td>27</td>\n",
       "      <td>27</td>\n",
       "      <td>27</td>\n",
       "      <td>27</td>\n",
       "    </tr>\n",
       "    <tr>\n",
       "      <th>male</th>\n",
       "      <td>29</td>\n",
       "      <td>29</td>\n",
       "      <td>29</td>\n",
       "      <td>29</td>\n",
       "      <td>29</td>\n",
       "      <td>29</td>\n",
       "      <td>29</td>\n",
       "    </tr>\n",
       "    <tr>\n",
       "      <th rowspan=\"2\" valign=\"top\">Torgersen</th>\n",
       "      <th>female</th>\n",
       "      <td>24</td>\n",
       "      <td>24</td>\n",
       "      <td>24</td>\n",
       "      <td>24</td>\n",
       "      <td>24</td>\n",
       "      <td>24</td>\n",
       "      <td>24</td>\n",
       "    </tr>\n",
       "    <tr>\n",
       "      <th>male</th>\n",
       "      <td>28</td>\n",
       "      <td>28</td>\n",
       "      <td>28</td>\n",
       "      <td>28</td>\n",
       "      <td>28</td>\n",
       "      <td>28</td>\n",
       "      <td>28</td>\n",
       "    </tr>\n",
       "    <tr>\n",
       "      <th rowspan=\"6\" valign=\"top\">Chinstrap</th>\n",
       "      <th rowspan=\"2\" valign=\"top\">Biscoe</th>\n",
       "      <th>female</th>\n",
       "      <td>0</td>\n",
       "      <td>0</td>\n",
       "      <td>0</td>\n",
       "      <td>0</td>\n",
       "      <td>0</td>\n",
       "      <td>0</td>\n",
       "      <td>0</td>\n",
       "    </tr>\n",
       "    <tr>\n",
       "      <th>male</th>\n",
       "      <td>0</td>\n",
       "      <td>0</td>\n",
       "      <td>0</td>\n",
       "      <td>0</td>\n",
       "      <td>0</td>\n",
       "      <td>0</td>\n",
       "      <td>0</td>\n",
       "    </tr>\n",
       "    <tr>\n",
       "      <th rowspan=\"2\" valign=\"top\">Dream</th>\n",
       "      <th>female</th>\n",
       "      <td>34</td>\n",
       "      <td>34</td>\n",
       "      <td>34</td>\n",
       "      <td>34</td>\n",
       "      <td>34</td>\n",
       "      <td>34</td>\n",
       "      <td>34</td>\n",
       "    </tr>\n",
       "    <tr>\n",
       "      <th>male</th>\n",
       "      <td>34</td>\n",
       "      <td>34</td>\n",
       "      <td>34</td>\n",
       "      <td>34</td>\n",
       "      <td>34</td>\n",
       "      <td>34</td>\n",
       "      <td>34</td>\n",
       "    </tr>\n",
       "    <tr>\n",
       "      <th rowspan=\"2\" valign=\"top\">Torgersen</th>\n",
       "      <th>female</th>\n",
       "      <td>0</td>\n",
       "      <td>0</td>\n",
       "      <td>0</td>\n",
       "      <td>0</td>\n",
       "      <td>0</td>\n",
       "      <td>0</td>\n",
       "      <td>0</td>\n",
       "    </tr>\n",
       "    <tr>\n",
       "      <th>male</th>\n",
       "      <td>0</td>\n",
       "      <td>0</td>\n",
       "      <td>0</td>\n",
       "      <td>0</td>\n",
       "      <td>0</td>\n",
       "      <td>0</td>\n",
       "      <td>0</td>\n",
       "    </tr>\n",
       "    <tr>\n",
       "      <th rowspan=\"6\" valign=\"top\">Gentoo</th>\n",
       "      <th rowspan=\"2\" valign=\"top\">Biscoe</th>\n",
       "      <th>female</th>\n",
       "      <td>58</td>\n",
       "      <td>58</td>\n",
       "      <td>58</td>\n",
       "      <td>58</td>\n",
       "      <td>58</td>\n",
       "      <td>58</td>\n",
       "      <td>58</td>\n",
       "    </tr>\n",
       "    <tr>\n",
       "      <th>male</th>\n",
       "      <td>66</td>\n",
       "      <td>66</td>\n",
       "      <td>66</td>\n",
       "      <td>66</td>\n",
       "      <td>66</td>\n",
       "      <td>66</td>\n",
       "      <td>66</td>\n",
       "    </tr>\n",
       "    <tr>\n",
       "      <th rowspan=\"2\" valign=\"top\">Dream</th>\n",
       "      <th>female</th>\n",
       "      <td>0</td>\n",
       "      <td>0</td>\n",
       "      <td>0</td>\n",
       "      <td>0</td>\n",
       "      <td>0</td>\n",
       "      <td>0</td>\n",
       "      <td>0</td>\n",
       "    </tr>\n",
       "    <tr>\n",
       "      <th>male</th>\n",
       "      <td>0</td>\n",
       "      <td>0</td>\n",
       "      <td>0</td>\n",
       "      <td>0</td>\n",
       "      <td>0</td>\n",
       "      <td>0</td>\n",
       "      <td>0</td>\n",
       "    </tr>\n",
       "    <tr>\n",
       "      <th rowspan=\"2\" valign=\"top\">Torgersen</th>\n",
       "      <th>female</th>\n",
       "      <td>0</td>\n",
       "      <td>0</td>\n",
       "      <td>0</td>\n",
       "      <td>0</td>\n",
       "      <td>0</td>\n",
       "      <td>0</td>\n",
       "      <td>0</td>\n",
       "    </tr>\n",
       "    <tr>\n",
       "      <th>male</th>\n",
       "      <td>0</td>\n",
       "      <td>0</td>\n",
       "      <td>0</td>\n",
       "      <td>0</td>\n",
       "      <td>0</td>\n",
       "      <td>0</td>\n",
       "      <td>0</td>\n",
       "    </tr>\n",
       "  </tbody>\n",
       "</table>\n",
       "</div>"
      ],
      "text/plain": [
       "                            rowid  bill_length_mm  bill_depth_mm  \\\n",
       "species   island    sex                                            \n",
       "Adelie    Biscoe    female     22              22             22   \n",
       "                    male       22              22             22   \n",
       "          Dream     female     27              27             27   \n",
       "                    male       29              29             29   \n",
       "          Torgersen female     24              24             24   \n",
       "                    male       28              28             28   \n",
       "Chinstrap Biscoe    female      0               0              0   \n",
       "                    male        0               0              0   \n",
       "          Dream     female     34              34             34   \n",
       "                    male       34              34             34   \n",
       "          Torgersen female      0               0              0   \n",
       "                    male        0               0              0   \n",
       "Gentoo    Biscoe    female     58              58             58   \n",
       "                    male       66              66             66   \n",
       "          Dream     female      0               0              0   \n",
       "                    male        0               0              0   \n",
       "          Torgersen female      0               0              0   \n",
       "                    male        0               0              0   \n",
       "\n",
       "                            flipper_length_mm  body_mass_g  year  wkilo  \n",
       "species   island    sex                                                  \n",
       "Adelie    Biscoe    female                 22           22    22     22  \n",
       "                    male                   22           22    22     22  \n",
       "          Dream     female                 27           27    27     27  \n",
       "                    male                   29           29    29     29  \n",
       "          Torgersen female                 24           24    24     24  \n",
       "                    male                   28           28    28     28  \n",
       "Chinstrap Biscoe    female                  0            0     0      0  \n",
       "                    male                    0            0     0      0  \n",
       "          Dream     female                 34           34    34     34  \n",
       "                    male                   34           34    34     34  \n",
       "          Torgersen female                  0            0     0      0  \n",
       "                    male                    0            0     0      0  \n",
       "Gentoo    Biscoe    female                 58           58    58     58  \n",
       "                    male                   66           66    66     66  \n",
       "          Dream     female                  0            0     0      0  \n",
       "                    male                    0            0     0      0  \n",
       "          Torgersen female                  0            0     0      0  \n",
       "                    male                    0            0     0      0  "
      ]
     },
     "execution_count": 70,
     "metadata": {},
     "output_type": "execute_result"
    }
   ],
   "source": [
    "penge_agg"
   ]
  },
  {
   "cell_type": "markdown",
   "id": "42673cf4-e386-44c7-8fad-7ffce84818bb",
   "metadata": {},
   "source": [
    "<h1>What year has the most recorded data for male -> adelie</h1>"
   ]
  },
  {
   "cell_type": "code",
   "execution_count": 71,
   "id": "b27eac04-723a-46df-86f8-f62909e89ba0",
   "metadata": {},
   "outputs": [
    {
     "name": "stderr",
     "output_type": "stream",
     "text": [
      "C:\\Users\\LAB4-StudentPC01\\AppData\\Local\\Temp\\ipykernel_476\\406448019.py:1: FutureWarning: The default of observed=False is deprecated and will be changed to True in a future version of pandas. Pass observed=False to retain current behavior or observed=True to adopt the future default and silence this warning.\n",
      "  ade_male = penge.groupby([\"species\",\"year\",\"sex\"]).size()\n"
     ]
    }
   ],
   "source": [
    "ade_male = penge.groupby([\"species\",\"year\",\"sex\"]).size()"
   ]
  },
  {
   "cell_type": "code",
   "execution_count": 72,
   "id": "4d1e0b09-73ae-4168-9ae3-34244a516e57",
   "metadata": {},
   "outputs": [
    {
     "data": {
      "text/plain": [
       "species    year  sex   \n",
       "Adelie     2007  female    22\n",
       "                 male      28\n",
       "           2008  female    25\n",
       "                 male      25\n",
       "           2009  female    26\n",
       "                 male      26\n",
       "Chinstrap  2007  female    13\n",
       "                 male      13\n",
       "           2008  female     9\n",
       "                 male       9\n",
       "           2009  female    12\n",
       "                 male      12\n",
       "Gentoo     2007  female    16\n",
       "                 male      18\n",
       "           2008  female    22\n",
       "                 male      24\n",
       "           2009  female    20\n",
       "                 male      24\n",
       "dtype: int64"
      ]
     },
     "execution_count": 72,
     "metadata": {},
     "output_type": "execute_result"
    }
   ],
   "source": [
    "ade_male"
   ]
  },
  {
   "cell_type": "markdown",
   "id": "3d69d633-dc7b-4676-8937-cff7b042558d",
   "metadata": {},
   "source": [
    "<h1>Isight for 8</h1>\n",
    "<h2>2007 is the year that has most recorded data for male in adelie island with the value of 28</h2>"
   ]
  },
  {
   "cell_type": "markdown",
   "id": "29286004-f2cc-408c-991b-80e31789132a",
   "metadata": {},
   "source": [
    "<h1>NO. 9 - Who's the most heavy pengue species in male sex </h1>"
   ]
  },
  {
   "cell_type": "code",
   "execution_count": null,
   "id": "91ff162b-3688-4f5e-8c53-be654e230758",
   "metadata": {},
   "outputs": [],
   "source": []
  },
  {
   "cell_type": "code",
   "execution_count": 73,
   "id": "a2902490-57a9-4781-9a5e-ca3bb3efa458",
   "metadata": {},
   "outputs": [
    {
     "name": "stderr",
     "output_type": "stream",
     "text": [
      "C:\\Users\\LAB4-StudentPC01\\AppData\\Local\\Temp\\ipykernel_476\\3603542137.py:1: FutureWarning: The default of observed=False is deprecated and will be changed to True in a future version of pandas. Pass observed=False to retain current behavior or observed=True to adopt the future default and silence this warning.\n",
      "  weight_sex = np.round(penge.groupby([\"species\",\"sex\"])[\"wkilo\"].mean() , 1)\n"
     ]
    }
   ],
   "source": [
    "weight_sex = np.round(penge.groupby([\"species\",\"sex\"])[\"wkilo\"].mean() , 1)"
   ]
  },
  {
   "cell_type": "code",
   "execution_count": 74,
   "id": "bec39a12-19fc-4509-bd1b-34a452635544",
   "metadata": {},
   "outputs": [
    {
     "data": {
      "text/html": [
       "<div>\n",
       "<style scoped>\n",
       "    .dataframe tbody tr th:only-of-type {\n",
       "        vertical-align: middle;\n",
       "    }\n",
       "\n",
       "    .dataframe tbody tr th {\n",
       "        vertical-align: top;\n",
       "    }\n",
       "\n",
       "    .dataframe thead th {\n",
       "        text-align: right;\n",
       "    }\n",
       "</style>\n",
       "<table border=\"1\" class=\"dataframe\">\n",
       "  <thead>\n",
       "    <tr style=\"text-align: right;\">\n",
       "      <th>sex</th>\n",
       "      <th>female</th>\n",
       "      <th>male</th>\n",
       "    </tr>\n",
       "    <tr>\n",
       "      <th>species</th>\n",
       "      <th></th>\n",
       "      <th></th>\n",
       "    </tr>\n",
       "  </thead>\n",
       "  <tbody>\n",
       "    <tr>\n",
       "      <th>Adelie</th>\n",
       "      <td>3.4</td>\n",
       "      <td>4.0</td>\n",
       "    </tr>\n",
       "    <tr>\n",
       "      <th>Chinstrap</th>\n",
       "      <td>3.5</td>\n",
       "      <td>3.9</td>\n",
       "    </tr>\n",
       "    <tr>\n",
       "      <th>Gentoo</th>\n",
       "      <td>4.7</td>\n",
       "      <td>5.4</td>\n",
       "    </tr>\n",
       "  </tbody>\n",
       "</table>\n",
       "</div>"
      ],
      "text/plain": [
       "sex        female  male\n",
       "species                \n",
       "Adelie        3.4   4.0\n",
       "Chinstrap     3.5   3.9\n",
       "Gentoo        4.7   5.4"
      ]
     },
     "execution_count": 74,
     "metadata": {},
     "output_type": "execute_result"
    }
   ],
   "source": [
    "weight_sex.unstack()"
   ]
  },
  {
   "cell_type": "markdown",
   "id": "c9ee423b-93f5-45ac-946a-3a314e55403a",
   "metadata": {},
   "source": [
    "<h2>Insight for 9 <br> The heaviest species in terms of male is Gentoo</h2>"
   ]
  },
  {
   "cell_type": "markdown",
   "id": "22411b4e-8f80-48a1-8e51-0873a3d2725e",
   "metadata": {},
   "source": [
    "<h1>No 10. What year has the highest recorded weight for male and female</h1>"
   ]
  },
  {
   "cell_type": "code",
   "execution_count": 75,
   "id": "7361b0cc-ce2b-4ef0-bd22-283f763961ee",
   "metadata": {},
   "outputs": [
    {
     "name": "stderr",
     "output_type": "stream",
     "text": [
      "C:\\Users\\LAB4-StudentPC01\\AppData\\Local\\Temp\\ipykernel_476\\2145433371.py:1: FutureWarning: The default of observed=False is deprecated and will be changed to True in a future version of pandas. Pass observed=False to retain current behavior or observed=True to adopt the future default and silence this warning.\n",
      "  weight_year = np.round(penge.groupby([\"species\",\"year\",\"sex\"])[\"wkilo\"].mean() , 1)\n"
     ]
    }
   ],
   "source": [
    "weight_year = np.round(penge.groupby([\"species\",\"year\",\"sex\"])[\"wkilo\"].mean() , 1)"
   ]
  },
  {
   "cell_type": "code",
   "execution_count": 76,
   "id": "c5ef9056-3148-4518-bca4-d2bbfe9bc13c",
   "metadata": {},
   "outputs": [
    {
     "data": {
      "text/html": [
       "<div>\n",
       "<style scoped>\n",
       "    .dataframe tbody tr th:only-of-type {\n",
       "        vertical-align: middle;\n",
       "    }\n",
       "\n",
       "    .dataframe tbody tr th {\n",
       "        vertical-align: top;\n",
       "    }\n",
       "\n",
       "    .dataframe thead th {\n",
       "        text-align: right;\n",
       "    }\n",
       "</style>\n",
       "<table border=\"1\" class=\"dataframe\">\n",
       "  <thead>\n",
       "    <tr style=\"text-align: right;\">\n",
       "      <th></th>\n",
       "      <th>sex</th>\n",
       "      <th>female</th>\n",
       "      <th>male</th>\n",
       "    </tr>\n",
       "    <tr>\n",
       "      <th>species</th>\n",
       "      <th>year</th>\n",
       "      <th></th>\n",
       "      <th></th>\n",
       "    </tr>\n",
       "  </thead>\n",
       "  <tbody>\n",
       "    <tr>\n",
       "      <th rowspan=\"3\" valign=\"top\">Adelie</th>\n",
       "      <th>2007</th>\n",
       "      <td>3.4</td>\n",
       "      <td>4.0</td>\n",
       "    </tr>\n",
       "    <tr>\n",
       "      <th>2008</th>\n",
       "      <td>3.4</td>\n",
       "      <td>4.1</td>\n",
       "    </tr>\n",
       "    <tr>\n",
       "      <th>2009</th>\n",
       "      <td>3.3</td>\n",
       "      <td>4.0</td>\n",
       "    </tr>\n",
       "    <tr>\n",
       "      <th rowspan=\"3\" valign=\"top\">Chinstrap</th>\n",
       "      <th>2007</th>\n",
       "      <td>3.6</td>\n",
       "      <td>3.8</td>\n",
       "    </tr>\n",
       "    <tr>\n",
       "      <th>2008</th>\n",
       "      <td>3.5</td>\n",
       "      <td>4.1</td>\n",
       "    </tr>\n",
       "    <tr>\n",
       "      <th>2009</th>\n",
       "      <td>3.5</td>\n",
       "      <td>3.9</td>\n",
       "    </tr>\n",
       "    <tr>\n",
       "      <th rowspan=\"3\" valign=\"top\">Gentoo</th>\n",
       "      <th>2007</th>\n",
       "      <td>4.6</td>\n",
       "      <td>5.5</td>\n",
       "    </tr>\n",
       "    <tr>\n",
       "      <th>2008</th>\n",
       "      <td>4.6</td>\n",
       "      <td>5.4</td>\n",
       "    </tr>\n",
       "    <tr>\n",
       "      <th>2009</th>\n",
       "      <td>4.8</td>\n",
       "      <td>5.4</td>\n",
       "    </tr>\n",
       "  </tbody>\n",
       "</table>\n",
       "</div>"
      ],
      "text/plain": [
       "sex             female  male\n",
       "species   year              \n",
       "Adelie    2007     3.4   4.0\n",
       "          2008     3.4   4.1\n",
       "          2009     3.3   4.0\n",
       "Chinstrap 2007     3.6   3.8\n",
       "          2008     3.5   4.1\n",
       "          2009     3.5   3.9\n",
       "Gentoo    2007     4.6   5.5\n",
       "          2008     4.6   5.4\n",
       "          2009     4.8   5.4"
      ]
     },
     "execution_count": 76,
     "metadata": {},
     "output_type": "execute_result"
    }
   ],
   "source": [
    "weight_year.unstack()"
   ]
  },
  {
   "cell_type": "markdown",
   "id": "6fee1eb8-15e1-453f-9d72-fdd292e48a89",
   "metadata": {},
   "source": [
    "<h2>Insight for 10 <br> For male, the highest recorded weight in terms of year is 2007 <br> For female, the highest recorded weight in terms of year is 2009</h2>"
   ]
  },
  {
   "cell_type": "code",
   "execution_count": null,
   "id": "8a79740d-982c-44a0-885d-38cef7cfcfcd",
   "metadata": {},
   "outputs": [],
   "source": []
  },
  {
   "cell_type": "markdown",
   "id": "ccd25ea3-6dda-428c-945f-fd37e98cc3f9",
   "metadata": {},
   "source": [
    "<h1>CORRELATION v CAUSATION</h1>"
   ]
  },
  {
   "cell_type": "markdown",
   "id": "ac256c30-6829-44b2-a4b7-0cfae9913c24",
   "metadata": {},
   "source": [
    "<h1>No 11. Correlation between Bill length and Bill depth</h1>"
   ]
  },
  {
   "cell_type": "markdown",
   "id": "e5e5b344-5bba-4800-982c-425ebb60663b",
   "metadata": {},
   "source": [
    "<h1>Anything above .5 means the two values has a strong correlation</h1>\n",
    "<h1>Anything below .5 meaning less or no correlation</h1>"
   ]
  },
  {
   "cell_type": "markdown",
   "id": "f3c1476d-ad81-43cb-b286-188012e55bc7",
   "metadata": {},
   "source": [
    "<h1>Requirements for correlation</h1>\n",
    "<ul>\n",
    "    <li>Naming the variable</li>\n",
    "    <li>first column to test</li>\n",
    "    <li>.corr function</li>\n",
    "    <li>second column to test</li>\n",
    "</ul>"
   ]
  },
  {
   "cell_type": "markdown",
   "id": "ddbbeec6-af93-4910-82af-d1121727496a",
   "metadata": {},
   "source": [
    "<h1>Statistical Treatment</h1>\n",
    "<h2>Pandas Default - pearson R Correlation</h2>\n",
    "<h2>Used for measuring correlation between quantitative Data</h2>"
   ]
  },
  {
   "cell_type": "code",
   "execution_count": 77,
   "id": "87089902-2a87-4425-b776-63a56b2e514b",
   "metadata": {},
   "outputs": [],
   "source": [
    "b_length_depth = penge['bill_length_mm'].corr(penge['bill_depth_mm'])"
   ]
  },
  {
   "cell_type": "code",
   "execution_count": 78,
   "id": "a04bcb04-2eca-4d70-98b6-572bdee2ea86",
   "metadata": {},
   "outputs": [
    {
     "data": {
      "text/plain": [
       "np.float64(-0.23505287035553282)"
      ]
     },
     "execution_count": 78,
     "metadata": {},
     "output_type": "execute_result"
    }
   ],
   "source": [
    "b_length_depth"
   ]
  },
  {
   "cell_type": "markdown",
   "id": "fb38ff23-ea49-4b72-859d-1e7d2c8a0237",
   "metadata": {},
   "source": [
    "<h2>Insight no 11.</h2>\n",
    "<h2>There are no correlation between bill lenght and bill depth</h2>"
   ]
  },
  {
   "cell_type": "markdown",
   "id": "7ec1044c-823a-456e-a0fe-2811847287f3",
   "metadata": {},
   "source": [
    "<h1>No 12. Correlation between Bill depth and Body mass</h1>"
   ]
  },
  {
   "cell_type": "code",
   "execution_count": 79,
   "id": "a307ff88-f4df-48d5-8ba0-6c57743b7fe3",
   "metadata": {},
   "outputs": [],
   "source": [
    "depth_mass = np.round(penge['bill_depth_mm'].corr(penge['wkilo']),1)"
   ]
  },
  {
   "cell_type": "code",
   "execution_count": 80,
   "id": "45a0d82b-b5e4-4f94-a0cb-f59414f12f8a",
   "metadata": {},
   "outputs": [
    {
     "data": {
      "text/plain": [
       "np.float64(-0.5)"
      ]
     },
     "execution_count": 80,
     "metadata": {},
     "output_type": "execute_result"
    }
   ],
   "source": [
    "depth_mass"
   ]
  },
  {
   "cell_type": "markdown",
   "id": "581b9443-0c99-4bbb-ba04-21fc9f575003",
   "metadata": {
    "jp-MarkdownHeadingCollapsed": true
   },
   "source": [
    "<h2>Insight no 12.</h2>\n",
    "<h2>There are no correlation between bill depth and body mass</h2>"
   ]
  },
  {
   "cell_type": "markdown",
   "id": "fa5d9646-95c0-403a-9155-0467f3002ae8",
   "metadata": {},
   "source": [
    "<h1>No 13. Correlation between Bill length and Body mass</h1>"
   ]
  },
  {
   "cell_type": "code",
   "execution_count": 81,
   "id": "05ed29da-4c3a-4b95-9276-1fd17ee6d6c3",
   "metadata": {},
   "outputs": [],
   "source": [
    "length_mass = np.round(penge['bill_length_mm'].corr(penge['wkilo']), 1)"
   ]
  },
  {
   "cell_type": "code",
   "execution_count": 82,
   "id": "827ec94b-815a-4bbb-9ecc-8390bea1e8e9",
   "metadata": {},
   "outputs": [
    {
     "data": {
      "text/plain": [
       "np.float64(0.6)"
      ]
     },
     "execution_count": 82,
     "metadata": {},
     "output_type": "execute_result"
    }
   ],
   "source": [
    "length_mass"
   ]
  },
  {
   "cell_type": "markdown",
   "id": "bb2534f4-51ff-4230-9333-7ed2a63dee80",
   "metadata": {},
   "source": [
    "<h2>Insight no 13.</h2>\n",
    "<h2>There are correlation between bill length and body mass</h2>"
   ]
  },
  {
   "cell_type": "markdown",
   "id": "04f3950c-2c8e-416d-8263-d348345225ab",
   "metadata": {},
   "source": [
    "<h1>No 14. Correlation between flipper length and Body mass</h1>"
   ]
  },
  {
   "cell_type": "code",
   "execution_count": 83,
   "id": "1ee9b6ab-93f7-4c1c-a30b-1d494fba6695",
   "metadata": {},
   "outputs": [],
   "source": [
    "flipper_mass = np.round(penge['flipper_length_mm'].corr(penge['wkilo']), 1)"
   ]
  },
  {
   "cell_type": "code",
   "execution_count": 84,
   "id": "2b69c938-b314-4a61-931d-49e4b808eaec",
   "metadata": {},
   "outputs": [
    {
     "data": {
      "text/plain": [
       "np.float64(0.9)"
      ]
     },
     "execution_count": 84,
     "metadata": {},
     "output_type": "execute_result"
    }
   ],
   "source": [
    "flipper_mass"
   ]
  },
  {
   "cell_type": "markdown",
   "id": "054d4188-a097-4b66-b898-f6cb0b487afe",
   "metadata": {},
   "source": [
    "<h2>Insight no 14.</h2>\n",
    "<h2>There are correlation between flipper length and body mass</h2>"
   ]
  },
  {
   "cell_type": "markdown",
   "id": "624af4c0-c3d0-468c-97ad-2e0133fc9647",
   "metadata": {},
   "source": [
    "<h1>No 15. Correlation between flipper length and Bill length</h1>"
   ]
  },
  {
   "cell_type": "code",
   "execution_count": 85,
   "id": "40a66821-57a4-41b8-94bd-aff9bc4a1fd1",
   "metadata": {},
   "outputs": [],
   "source": [
    "flipper_lenght = np.round(penge['flipper_length_mm'].corr(penge['bill_length_mm']), 1)"
   ]
  },
  {
   "cell_type": "code",
   "execution_count": 86,
   "id": "abeeb72f-0311-4012-8537-35eb4bb008d9",
   "metadata": {},
   "outputs": [
    {
     "data": {
      "text/plain": [
       "np.float64(0.7)"
      ]
     },
     "execution_count": 86,
     "metadata": {},
     "output_type": "execute_result"
    }
   ],
   "source": [
    "flipper_lenght"
   ]
  },
  {
   "cell_type": "markdown",
   "id": "61225a62-2777-42ac-b02a-0274dc48baf6",
   "metadata": {},
   "source": [
    "<h2>Insight no 15.</h2>\n",
    "<h2>There are correlation between flipper length and bill length</h2>"
   ]
  },
  {
   "cell_type": "markdown",
   "id": "ec0e0a30-43e4-4d44-9433-3da1951dcfa0",
   "metadata": {},
   "source": [
    "<h1>No 16. Correlation between flipper length and Bill depth\n",
    "</h1>"
   ]
  },
  {
   "cell_type": "code",
   "execution_count": 87,
   "id": "7243bc69-32ff-4831-a942-9bc8516a5db9",
   "metadata": {},
   "outputs": [],
   "source": [
    "flipper_depth = np.round(penge['flipper_length_mm'].corr(penge['bill_depth_mm']), 1)"
   ]
  },
  {
   "cell_type": "code",
   "execution_count": 88,
   "id": "eef709cd-e9a8-4854-9d51-21a1d2ca4b14",
   "metadata": {},
   "outputs": [
    {
     "data": {
      "text/plain": [
       "np.float64(-0.6)"
      ]
     },
     "execution_count": 88,
     "metadata": {},
     "output_type": "execute_result"
    }
   ],
   "source": [
    "flipper_depth"
   ]
  },
  {
   "cell_type": "markdown",
   "id": "d1cecb33-97bc-4eb4-99a1-16b0584034a6",
   "metadata": {},
   "source": [
    "<h2>Insight no 16.</h2>\n",
    "<h2>There are no correlation between flipper length and bill depth</h2>"
   ]
  },
  {
   "cell_type": "code",
   "execution_count": 91,
   "id": "6675d43c-9a3c-496a-8740-d1ec2eb66a32",
   "metadata": {},
   "outputs": [
    {
     "data": {
      "text/html": [
       "<div>\n",
       "<style scoped>\n",
       "    .dataframe tbody tr th:only-of-type {\n",
       "        vertical-align: middle;\n",
       "    }\n",
       "\n",
       "    .dataframe tbody tr th {\n",
       "        vertical-align: top;\n",
       "    }\n",
       "\n",
       "    .dataframe thead th {\n",
       "        text-align: right;\n",
       "    }\n",
       "</style>\n",
       "<table border=\"1\" class=\"dataframe\">\n",
       "  <thead>\n",
       "    <tr style=\"text-align: right;\">\n",
       "      <th></th>\n",
       "      <th>rowid</th>\n",
       "      <th>species</th>\n",
       "      <th>island</th>\n",
       "      <th>bill_length_mm</th>\n",
       "      <th>bill_depth_mm</th>\n",
       "      <th>flipper_length_mm</th>\n",
       "      <th>body_mass_g</th>\n",
       "      <th>sex</th>\n",
       "      <th>year</th>\n",
       "      <th>wkilo</th>\n",
       "    </tr>\n",
       "  </thead>\n",
       "  <tbody>\n",
       "    <tr>\n",
       "      <th>0</th>\n",
       "      <td>1</td>\n",
       "      <td>Adelie</td>\n",
       "      <td>Torgersen</td>\n",
       "      <td>39.10000</td>\n",
       "      <td>18.70000</td>\n",
       "      <td>181.000000</td>\n",
       "      <td>3750.000000</td>\n",
       "      <td>male</td>\n",
       "      <td>2007</td>\n",
       "      <td>3.8</td>\n",
       "    </tr>\n",
       "    <tr>\n",
       "      <th>1</th>\n",
       "      <td>2</td>\n",
       "      <td>Adelie</td>\n",
       "      <td>Torgersen</td>\n",
       "      <td>39.50000</td>\n",
       "      <td>17.40000</td>\n",
       "      <td>186.000000</td>\n",
       "      <td>3800.000000</td>\n",
       "      <td>female</td>\n",
       "      <td>2007</td>\n",
       "      <td>3.8</td>\n",
       "    </tr>\n",
       "    <tr>\n",
       "      <th>2</th>\n",
       "      <td>3</td>\n",
       "      <td>Adelie</td>\n",
       "      <td>Torgersen</td>\n",
       "      <td>40.30000</td>\n",
       "      <td>18.00000</td>\n",
       "      <td>195.000000</td>\n",
       "      <td>3250.000000</td>\n",
       "      <td>female</td>\n",
       "      <td>2007</td>\n",
       "      <td>3.2</td>\n",
       "    </tr>\n",
       "    <tr>\n",
       "      <th>3</th>\n",
       "      <td>4</td>\n",
       "      <td>Adelie</td>\n",
       "      <td>Torgersen</td>\n",
       "      <td>43.92193</td>\n",
       "      <td>17.15117</td>\n",
       "      <td>200.915205</td>\n",
       "      <td>4201.754386</td>\n",
       "      <td>male</td>\n",
       "      <td>2007</td>\n",
       "      <td>4.2</td>\n",
       "    </tr>\n",
       "    <tr>\n",
       "      <th>4</th>\n",
       "      <td>5</td>\n",
       "      <td>Adelie</td>\n",
       "      <td>Torgersen</td>\n",
       "      <td>36.70000</td>\n",
       "      <td>19.30000</td>\n",
       "      <td>193.000000</td>\n",
       "      <td>3450.000000</td>\n",
       "      <td>female</td>\n",
       "      <td>2007</td>\n",
       "      <td>3.4</td>\n",
       "    </tr>\n",
       "    <tr>\n",
       "      <th>...</th>\n",
       "      <td>...</td>\n",
       "      <td>...</td>\n",
       "      <td>...</td>\n",
       "      <td>...</td>\n",
       "      <td>...</td>\n",
       "      <td>...</td>\n",
       "      <td>...</td>\n",
       "      <td>...</td>\n",
       "      <td>...</td>\n",
       "      <td>...</td>\n",
       "    </tr>\n",
       "    <tr>\n",
       "      <th>339</th>\n",
       "      <td>340</td>\n",
       "      <td>Chinstrap</td>\n",
       "      <td>Dream</td>\n",
       "      <td>55.80000</td>\n",
       "      <td>19.80000</td>\n",
       "      <td>207.000000</td>\n",
       "      <td>4000.000000</td>\n",
       "      <td>male</td>\n",
       "      <td>2009</td>\n",
       "      <td>4.0</td>\n",
       "    </tr>\n",
       "    <tr>\n",
       "      <th>340</th>\n",
       "      <td>341</td>\n",
       "      <td>Chinstrap</td>\n",
       "      <td>Dream</td>\n",
       "      <td>43.50000</td>\n",
       "      <td>18.10000</td>\n",
       "      <td>202.000000</td>\n",
       "      <td>3400.000000</td>\n",
       "      <td>female</td>\n",
       "      <td>2009</td>\n",
       "      <td>3.4</td>\n",
       "    </tr>\n",
       "    <tr>\n",
       "      <th>341</th>\n",
       "      <td>342</td>\n",
       "      <td>Chinstrap</td>\n",
       "      <td>Dream</td>\n",
       "      <td>49.60000</td>\n",
       "      <td>18.20000</td>\n",
       "      <td>193.000000</td>\n",
       "      <td>3775.000000</td>\n",
       "      <td>male</td>\n",
       "      <td>2009</td>\n",
       "      <td>3.8</td>\n",
       "    </tr>\n",
       "    <tr>\n",
       "      <th>342</th>\n",
       "      <td>343</td>\n",
       "      <td>Chinstrap</td>\n",
       "      <td>Dream</td>\n",
       "      <td>50.80000</td>\n",
       "      <td>19.00000</td>\n",
       "      <td>210.000000</td>\n",
       "      <td>4100.000000</td>\n",
       "      <td>male</td>\n",
       "      <td>2009</td>\n",
       "      <td>4.1</td>\n",
       "    </tr>\n",
       "    <tr>\n",
       "      <th>343</th>\n",
       "      <td>344</td>\n",
       "      <td>Chinstrap</td>\n",
       "      <td>Dream</td>\n",
       "      <td>50.20000</td>\n",
       "      <td>18.70000</td>\n",
       "      <td>198.000000</td>\n",
       "      <td>3775.000000</td>\n",
       "      <td>female</td>\n",
       "      <td>2009</td>\n",
       "      <td>3.8</td>\n",
       "    </tr>\n",
       "  </tbody>\n",
       "</table>\n",
       "<p>344 rows × 10 columns</p>\n",
       "</div>"
      ],
      "text/plain": [
       "    rowid    species     island  bill_length_mm  bill_depth_mm  \\\n",
       "0       1     Adelie  Torgersen        39.10000       18.70000   \n",
       "1       2     Adelie  Torgersen        39.50000       17.40000   \n",
       "2       3     Adelie  Torgersen        40.30000       18.00000   \n",
       "3       4     Adelie  Torgersen        43.92193       17.15117   \n",
       "4       5     Adelie  Torgersen        36.70000       19.30000   \n",
       "..    ...        ...        ...             ...            ...   \n",
       "339   340  Chinstrap      Dream        55.80000       19.80000   \n",
       "340   341  Chinstrap      Dream        43.50000       18.10000   \n",
       "341   342  Chinstrap      Dream        49.60000       18.20000   \n",
       "342   343  Chinstrap      Dream        50.80000       19.00000   \n",
       "343   344  Chinstrap      Dream        50.20000       18.70000   \n",
       "\n",
       "     flipper_length_mm  body_mass_g     sex  year  wkilo  \n",
       "0           181.000000  3750.000000    male  2007    3.8  \n",
       "1           186.000000  3800.000000  female  2007    3.8  \n",
       "2           195.000000  3250.000000  female  2007    3.2  \n",
       "3           200.915205  4201.754386    male  2007    4.2  \n",
       "4           193.000000  3450.000000  female  2007    3.4  \n",
       "..                 ...          ...     ...   ...    ...  \n",
       "339         207.000000  4000.000000    male  2009    4.0  \n",
       "340         202.000000  3400.000000  female  2009    3.4  \n",
       "341         193.000000  3775.000000    male  2009    3.8  \n",
       "342         210.000000  4100.000000    male  2009    4.1  \n",
       "343         198.000000  3775.000000  female  2009    3.8  \n",
       "\n",
       "[344 rows x 10 columns]"
      ]
     },
     "execution_count": 91,
     "metadata": {},
     "output_type": "execute_result"
    }
   ],
   "source": [
    "penge"
   ]
  },
  {
   "cell_type": "code",
   "execution_count": 93,
   "id": "db2fb0d4-3773-4d48-ab58-9699508e4e44",
   "metadata": {},
   "outputs": [],
   "source": [
    "from scipy.stats import f_oneway"
   ]
  },
  {
   "cell_type": "code",
   "execution_count": 92,
   "id": "cca2f3f1-005c-435f-9e97-f89d028ccb17",
   "metadata": {},
   "outputs": [
    {
     "data": {
      "text/plain": [
       "0      3750.000000\n",
       "3      4201.754386\n",
       "5      3650.000000\n",
       "7      4675.000000\n",
       "8      3475.000000\n",
       "          ...     \n",
       "334    3800.000000\n",
       "336    3950.000000\n",
       "339    4000.000000\n",
       "341    3775.000000\n",
       "342    4100.000000\n",
       "Name: body_mass_g, Length: 179, dtype: float64"
      ]
     },
     "execution_count": 92,
     "metadata": {},
     "output_type": "execute_result"
    }
   ],
   "source": [
    "penge[penge[\"sex\"] == \"male\"][\"body_mass_g\"]"
   ]
  },
  {
   "cell_type": "markdown",
   "id": "d2519c39-9666-43ed-968e-35db57dc0c61",
   "metadata": {},
   "source": [
    "<h1>No. 17</h1>\n",
    "<h2>Flipper c Sex</h2>"
   ]
  },
  {
   "cell_type": "code",
   "execution_count": 97,
   "id": "ea5597ac-9a9d-4bed-881a-00aae9565a8b",
   "metadata": {},
   "outputs": [
    {
     "data": {
      "text/plain": [
       "np.float64(4.88065474065626e-06)"
      ]
     },
     "execution_count": 97,
     "metadata": {},
     "output_type": "execute_result"
    }
   ],
   "source": [
    "f_stats, p_value = f_oneway(penge[penge[\"sex\"] == \"male\"][\"flipper_length_mm\"],\n",
    "                            penge[penge[\"sex\"] == \"female\"][\"flipper_length_mm\"])\n",
    "\n",
    "p_value"
   ]
  },
  {
   "cell_type": "markdown",
   "id": "04139bb3-8a28-4ead-9fd1-7b9b2e707303",
   "metadata": {},
   "source": [
    "<h2>Insight 17</h2>\n",
    "<h2>There is no correlation between flipper length and sex</h2>"
   ]
  },
  {
   "cell_type": "code",
   "execution_count": null,
   "id": "9f4ec781-f6d9-4e4c-9735-99fba5a07f6e",
   "metadata": {},
   "outputs": [],
   "source": []
  }
 ],
 "metadata": {
  "kernelspec": {
   "display_name": "Python 3 (ipykernel)",
   "language": "python",
   "name": "python3"
  },
  "language_info": {
   "codemirror_mode": {
    "name": "ipython",
    "version": 3
   },
   "file_extension": ".py",
   "mimetype": "text/x-python",
   "name": "python",
   "nbconvert_exporter": "python",
   "pygments_lexer": "ipython3",
   "version": "3.13.2"
  }
 },
 "nbformat": 4,
 "nbformat_minor": 5
}
